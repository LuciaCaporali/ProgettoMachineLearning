{
 "cells": [
  {
   "cell_type": "code",
   "execution_count": 1,
   "metadata": {},
   "outputs": [],
   "source": [
    "import tensorflow as tf\n",
    "from tensorflow import keras"
   ]
  },
  {
   "cell_type": "code",
   "execution_count": 2,
   "metadata": {},
   "outputs": [
    {
     "name": "stdout",
     "output_type": "stream",
     "text": [
      "Found 16932 files belonging to 4 classes.\n",
      "Found 4233 files belonging to 4 classes.\n"
     ]
    }
   ],
   "source": [
    "#Creiamo un tf.data.Dataset a partire dalle immagini nella directory su disco per il training set e il test set.\n",
    "train_set = tf.keras.preprocessing.image_dataset_from_directory(\n",
    "    'train',\n",
    "    labels='inferred',\n",
    "    label_mode='int'\n",
    ")\n",
    "\n",
    "test_set = tf.keras.preprocessing.image_dataset_from_directory(\n",
    "    'test',\n",
    "    labels='inferred',\n",
    "    label_mode='int'\n",
    ")"
   ]
  },
  {
   "cell_type": "code",
   "execution_count": 3,
   "metadata": {},
   "outputs": [
    {
     "name": "stdout",
     "output_type": "stream",
     "text": [
      "(32, 256, 256, 3)\n",
      "(32,)\n"
     ]
    }
   ],
   "source": [
    "#image_batch è un tensore della forma (32, 256, 256, 3) .\n",
    "#Questo è un batch di 32 immagini di forma 256x256x3. \n",
    "#Il label_batch è un tensore della forma (32,4) cioè in ogni batch ci sono 32 immagini e le etichette sono 4\n",
    "for image_batch, labels_batch in train_set:\n",
    "    print(image_batch.shape)\n",
    "    print(labels_batch.shape)\n",
    "    break"
   ]
  },
  {
   "cell_type": "markdown",
   "metadata": {},
   "source": [
    "Xception deve ricevere come input immagini di dimensione (224,224,3), occorre dunque modificare la dimensione delle immagini. Inoltre i pixel devono assumee valori tra [-1, +1] e non da 0 a 255, occorre quindi anche eseguire una normalizzazione"
   ]
  },
  {
   "cell_type": "code",
   "execution_count": 4,
   "metadata": {},
   "outputs": [],
   "source": [
    "from tensorflow.keras import layers\n",
    "\n",
    "resize_rescale = tf.keras.Sequential([\n",
    "  layers.experimental.preprocessing.Resizing(299, 299),\n",
    "  layers.experimental.preprocessing.Rescaling(scale=1./127.5, offset=-1)\n",
    "\n",
    "])\n",
    "\n",
    "def prepare(ds):\n",
    "    #Resize\n",
    "    ds = ds.map(lambda x, y: (resize_rescale(x),y))\n",
    "    return ds\n",
    "\n",
    "train_set = prepare(train_set)\n",
    "test_set = prepare(test_set)\n"
   ]
  },
  {
   "cell_type": "code",
   "execution_count": 5,
   "metadata": {},
   "outputs": [
    {
     "name": "stdout",
     "output_type": "stream",
     "text": [
      "(32, 299, 299, 3)\n",
      "(32,)\n"
     ]
    }
   ],
   "source": [
    "#Verifichiammo che sia avvenuto il resizing \n",
    "for image_batch, labels_batch in train_set:\n",
    "    print(image_batch.shape)\n",
    "    print(labels_batch.shape)\n",
    "    break"
   ]
  },
  {
   "cell_type": "markdown",
   "metadata": {},
   "source": [
    "# TRANSFER LEARNING "
   ]
  },
  {
   "cell_type": "code",
   "execution_count": 6,
   "metadata": {},
   "outputs": [],
   "source": [
    "#Creiamo il modello base considerando Xception pre-addestrato su ImageNet.\n",
    "#Non consideriamo gli ultimi layer che sono finalizzati agli obiettivo di classificazione di Imagenet\n",
    "base_model = tf.keras.applications.Xception(include_top=False, weights='imagenet')"
   ]
  },
  {
   "cell_type": "code",
   "execution_count": 7,
   "metadata": {},
   "outputs": [
    {
     "name": "stdout",
     "output_type": "stream",
     "text": [
      "(32, 10, 10, 2048)\n"
     ]
    }
   ],
   "source": [
    "#Il base_model si comporta quindi come un estrattore di featues,\n",
    "#In particolare estrae dalle immagini 299x299x3 in blocchi 10x10x2048 di features. \n",
    "image_batch, label_batch = next(iter(train_set))\n",
    "feature_batch = base_model(image_batch)\n",
    "print(feature_batch.shape)"
   ]
  },
  {
   "cell_type": "code",
   "execution_count": 8,
   "metadata": {},
   "outputs": [],
   "source": [
    "#Congeliamo il resto dei layer impedendone così l'aggiornamento durante l'addestramento.\n",
    "base_model.trainable = False"
   ]
  },
  {
   "cell_type": "code",
   "execution_count": 9,
   "metadata": {},
   "outputs": [
    {
     "name": "stdout",
     "output_type": "stream",
     "text": [
      "(32, 2048)\n"
     ]
    }
   ],
   "source": [
    "#Ora a partire dal blocco di features, usiamo un layer tf.keras.layers.GlobalAveragePooling2D,\n",
    "#facendo una media in una finestra 10x10, per generare le predizioni finali poichè ci consente di\n",
    "#convertire le features in un singolo vettore di 2048 elementi per immagine.\n",
    "global_average_layer = tf.keras.layers.GlobalAveragePooling2D()\n",
    "feature_batch_average = global_average_layer(feature_batch)\n",
    "print(feature_batch_average.shape)"
   ]
  },
  {
   "cell_type": "code",
   "execution_count": 10,
   "metadata": {},
   "outputs": [
    {
     "name": "stdout",
     "output_type": "stream",
     "text": [
      "(32, 4)\n"
     ]
    }
   ],
   "source": [
    "#Definiamo uno strato fully-connected per convertire queste features in una singola predizione.\n",
    "prediction_layer = tf.keras.layers.Dense(4, activation='relu')\n",
    "prediction_batch = prediction_layer(feature_batch_average)\n",
    "print(prediction_batch.shape)"
   ]
  },
  {
   "cell_type": "code",
   "execution_count": 11,
   "metadata": {},
   "outputs": [],
   "source": [
    "#Costruiamo il modello considerando quanto definito precedentemente\n",
    "inputs = tf.keras.Input(shape=(299, 299, 3))\n",
    "x = base_model(inputs, training=False)\n",
    "x = global_average_layer(x)\n",
    "outputs = prediction_layer(x)\n",
    "model = tf.keras.Model(inputs, outputs)"
   ]
  },
  {
   "cell_type": "code",
   "execution_count": 12,
   "metadata": {},
   "outputs": [
    {
     "name": "stdout",
     "output_type": "stream",
     "text": [
      "Model: \"model\"\n",
      "_________________________________________________________________\n",
      "Layer (type)                 Output Shape              Param #   \n",
      "=================================================================\n",
      "input_2 (InputLayer)         [(None, 299, 299, 3)]     0         \n",
      "_________________________________________________________________\n",
      "xception (Functional)        (None, None, None, 2048)  20861480  \n",
      "_________________________________________________________________\n",
      "global_average_pooling2d (Gl (None, 2048)              0         \n",
      "_________________________________________________________________\n",
      "dense (Dense)                (None, 4)                 8196      \n",
      "=================================================================\n",
      "Total params: 20,869,676\n",
      "Trainable params: 8,196\n",
      "Non-trainable params: 20,861,480\n",
      "_________________________________________________________________\n"
     ]
    }
   ],
   "source": [
    "#Compiliamo il modello\n",
    "model.compile(optimizer='adam',\n",
    "              loss=tf.keras.losses.SparseCategoricalCrossentropy(from_logits=True),\n",
    "              metrics=['accuracy'])\n",
    "\n",
    "model.summary()"
   ]
  },
  {
   "cell_type": "code",
   "execution_count": 13,
   "metadata": {},
   "outputs": [
    {
     "name": "stdout",
     "output_type": "stream",
     "text": [
      "530/530 [==============================] - 4169s 8s/step - loss: 0.8142 - accuracy: 0.6857\n"
     ]
    }
   ],
   "source": [
    "#Addestriamo il modello sul train set\n",
    "history = model.fit(train_set, epochs=1)"
   ]
  },
  {
   "cell_type": "code",
   "execution_count": 14,
   "metadata": {},
   "outputs": [
    {
     "data": {
      "image/png": "[encoded data removed]",
      "text/plain": [
       "<Figure size 576x576 with 2 Axes>"
      ]
     },
     "metadata": {
      "needs_background": "light"
     },
     "output_type": "display_data"
    }
   ],
   "source": [
    "import matplotlib.pyplot as plt\n",
    "\n",
    "#Analizziamo l'andamento dell'addestramento\n",
    "acc = history.history['accuracy']\n",
    "loss = history.history['loss']\n",
    "\n",
    "plt.figure(figsize=(8, 8))\n",
    "plt.subplot(2, 1, 1)\n",
    "plt.plot(acc, label='Training Accuracy')\n",
    "plt.legend(loc='lower right')\n",
    "plt.ylabel('Accuracy')\n",
    "plt.ylim([min(plt.ylim()),1])\n",
    "plt.title('Training Accuracy')\n",
    "\n",
    "plt.subplot(2, 1, 2)\n",
    "plt.plot(loss, label='Training Loss')\n",
    "plt.legend(loc='upper right')\n",
    "plt.ylabel('Cross Entropy')\n",
    "plt.ylim([0,1.0])\n",
    "plt.title('Training Loss')\n",
    "plt.xlabel('epoch')\n",
    "plt.show()"
   ]
  },
  {
   "cell_type": "code",
   "execution_count": 15,
   "metadata": {},
   "outputs": [
    {
     "name": "stdout",
     "output_type": "stream",
     "text": [
      "133/133 [==============================] - 977s 7s/step - loss: 0.7169 - accuracy: 0.7243\n",
      "Test accuracy : 0.7243090271949768\n"
     ]
    }
   ],
   "source": [
    "#Valutiamo le prestazioni del modello sul test set\n",
    "loss_test, accuracy_test = model.evaluate(test_set)\n",
    "print('Test accuracy :', accuracy_test)"
   ]
  },
  {
   "cell_type": "markdown",
   "metadata": {},
   "source": [
    "# FINE TUNING "
   ]
  },
  {
   "cell_type": "markdown",
   "metadata": {},
   "source": [
    "Un modo per incrementare le performance è eseguire fine-tuning, dove nel processo di training si 'aggiustano' i pesi degli ultimi layers così da specializzare la rete ancor di più al nostro dataset."
   ]
  },
  {
   "cell_type": "code",
   "execution_count": 16,
   "metadata": {},
   "outputs": [
    {
     "data": {
      "text/plain": [
       "132"
      ]
     },
     "execution_count": 16,
     "metadata": {},
     "output_type": "execute_result"
    }
   ],
   "source": [
    "#'Scongeliamo' il base_model in modo da non addestrare solo i layer più in basso.\n",
    "base_model.trainable = True\n",
    "\n",
    "num_layers = len(base_model.layers)\n",
    "num_layers"
   ]
  },
  {
   "cell_type": "code",
   "execution_count": 17,
   "metadata": {},
   "outputs": [],
   "source": [
    "#Scegliamo di addestrare il modello solo a partire dal centesimo layer in su\n",
    "#quindi congeliamo tutti i layer precedenti.\n",
    "finetune = 100\n",
    "for layer in base_model.layers[:finetune]:\n",
    "    layer.trainable =  False"
   ]
  },
  {
   "cell_type": "code",
   "execution_count": 18,
   "metadata": {},
   "outputs": [
    {
     "name": "stdout",
     "output_type": "stream",
     "text": [
      "Model: \"model\"\n",
      "_________________________________________________________________\n",
      "Layer (type)                 Output Shape              Param #   \n",
      "=================================================================\n",
      "input_2 (InputLayer)         [(None, 299, 299, 3)]     0         \n",
      "_________________________________________________________________\n",
      "xception (Functional)        (None, None, None, 2048)  20861480  \n",
      "_________________________________________________________________\n",
      "global_average_pooling2d (Gl (None, 2048)              0         \n",
      "_________________________________________________________________\n",
      "dense (Dense)                (None, 4)                 8196      \n",
      "=================================================================\n",
      "Total params: 20,869,676\n",
      "Trainable params: 9,486,540\n",
      "Non-trainable params: 11,383,136\n",
      "_________________________________________________________________\n"
     ]
    }
   ],
   "source": [
    "#Ricompiliamo il modello.\n",
    "model.compile(loss=tf.keras.losses.SparseCategoricalCrossentropy(from_logits=True),\n",
    "              optimizer = 'adam',\n",
    "              metrics=['accuracy'])\n",
    "\n",
    "model.summary()"
   ]
  },
  {
   "cell_type": "code",
   "execution_count": 19,
   "metadata": {},
   "outputs": [
    {
     "name": "stdout",
     "output_type": "stream",
     "text": [
      "Epoch 1/2\n",
      "530/530 [==============================] - 6233s 12s/step - loss: 1.3847 - accuracy: 0.1736\n",
      "Epoch 2/2\n",
      "530/530 [==============================] - 6254s 12s/step - loss: 1.3863 - accuracy: 0.1724\n"
     ]
    }
   ],
   "source": [
    "#Continuiamo con l'addestramento\n",
    "finetune_epochs = 1\n",
    "total_epochs =  1 + finetune_epochs\n",
    "\n",
    "history_fine = model.fit(train_set, epochs=total_epochs, initial_epoch=history.epoch[-1])\n",
    "acc += history_fine.history['accuracy']\n",
    "loss += history_fine.history['loss']"
   ]
  },
  {
   "cell_type": "code",
   "execution_count": 20,
   "metadata": {},
   "outputs": [
    {
     "data": {
      "image/png": "[encoded data removed]",
      "text/plain": [
       "<Figure size 576x576 with 2 Axes>"
      ]
     },
     "metadata": {
      "needs_background": "light"
     },
     "output_type": "display_data"
    }
   ],
   "source": [
    "#Analizziamo l'andamento dell'addestramento\n",
    "initial_epochs = 1\n",
    "plt.figure(figsize=(8, 8))\n",
    "plt.subplot(2, 1, 1)\n",
    "plt.plot(acc, label='Training Accuracy')\n",
    "plt.ylim([0.8, 1])\n",
    "plt.plot([initial_epochs-1,initial_epochs-1],\n",
    "          plt.ylim(), label='Start Fine Tuning')\n",
    "plt.legend(loc='lower right')\n",
    "plt.title('Training Accuracy')\n",
    "\n",
    "plt.subplot(2, 1, 2)\n",
    "plt.plot(loss, label='Training Loss')\n",
    "\n",
    "plt.ylim([0, 1.0])\n",
    "plt.plot([initial_epochs-1,initial_epochs-1],\n",
    "         plt.ylim(), label='Start Fine Tuning')\n",
    "plt.legend(loc='upper right')\n",
    "plt.title('Training Loss')\n",
    "plt.xlabel('epoch')\n",
    "plt.show()\n"
   ]
  },
  {
   "cell_type": "code",
   "execution_count": 21,
   "metadata": {},
   "outputs": [
    {
     "name": "stdout",
     "output_type": "stream",
     "text": [
      "133/133 [==============================] - 1007s 8s/step - loss: 1.3863 - accuracy: 0.1647\n",
      "Test accuracy : 0.16465863585472107\n"
     ]
    }
   ],
   "source": [
    "#Valutazione del modello sul test set dopo il fine tuning\n",
    "loss_test_fine, accuracy_test_fine = model.evaluate(test_set)\n",
    "print('Test accuracy :', accuracy_test_fine)"
   ]
  },
  {
   "cell_type": "markdown",
   "metadata": {},
   "source": [
    "Ripetiamo il transfer learning e il fine tuning eseguendo più epoche"
   ]
  },
  {
   "cell_type": "markdown",
   "metadata": {},
   "source": [
    "# TRANSFER LEARNING con 5 epoche"
   ]
  },
  {
   "cell_type": "code",
   "execution_count": 24,
   "metadata": {},
   "outputs": [],
   "source": [
    "#Creiamo il modello base considerando Xception pre-addestrato su ImageNet.\n",
    "#Non consideriamo gli ultimi layer che sono finalizzati agli obiettivo di classificazione di Imagenet\n",
    "base_model = tf.keras.applications.Xception(include_top=False, weights='imagenet')"
   ]
  },
  {
   "cell_type": "code",
   "execution_count": 25,
   "metadata": {},
   "outputs": [
    {
     "name": "stdout",
     "output_type": "stream",
     "text": [
      "(32, 10, 10, 2048)\n"
     ]
    }
   ],
   "source": [
    "#Il base_model si comporta quindi come un estrattore di featues,\n",
    "#In particolare estrae dalle immagini 299x299x3 in blocchi 10x10x2048 di features. \n",
    "image_batch, label_batch = next(iter(train_set))\n",
    "feature_batch = base_model(image_batch)\n",
    "print(feature_batch.shape)"
   ]
  },
  {
   "cell_type": "code",
   "execution_count": 26,
   "metadata": {},
   "outputs": [],
   "source": [
    "#Congeliamo il resto dei layer impedendone così l'aggiornamento durante l'addestramento.\n",
    "base_model.trainable = False"
   ]
  },
  {
   "cell_type": "code",
   "execution_count": 27,
   "metadata": {},
   "outputs": [
    {
     "name": "stdout",
     "output_type": "stream",
     "text": [
      "(32, 2048)\n"
     ]
    }
   ],
   "source": [
    "#Ora a partire dal blocco di features, usiamo un layer tf.keras.layers.GlobalAveragePooling2D,\n",
    "#facendo una media in una finestra 10x10, per generare le predizioni finali poichè ci consente di\n",
    "#convertire le features in un singolo vettore di 2048 elementi per immagine.\n",
    "global_average_layer = tf.keras.layers.GlobalAveragePooling2D()\n",
    "feature_batch_average = global_average_layer(feature_batch)\n",
    "print(feature_batch_average.shape)"
   ]
  },
  {
   "cell_type": "code",
   "execution_count": 28,
   "metadata": {},
   "outputs": [
    {
     "name": "stdout",
     "output_type": "stream",
     "text": [
      "(32, 4)\n"
     ]
    }
   ],
   "source": [
    "#Definiamo uno strato fully-connected per convertire queste features in una singola predizione.\n",
    "prediction_layer = tf.keras.layers.Dense(4, activation='relu')\n",
    "prediction_batch = prediction_layer(feature_batch_average)\n",
    "print(prediction_batch.shape)"
   ]
  },
  {
   "cell_type": "code",
   "execution_count": 29,
   "metadata": {},
   "outputs": [],
   "source": [
    "#Costruiamo il modello considerando quanto definito precedentemente\n",
    "inputs = tf.keras.Input(shape=(299, 299, 3))\n",
    "x = base_model(inputs, training=False)\n",
    "x = global_average_layer(x)\n",
    "outputs = prediction_layer(x)\n",
    "model = tf.keras.Model(inputs, outputs)"
   ]
  },
  {
   "cell_type": "code",
   "execution_count": 30,
   "metadata": {},
   "outputs": [
    {
     "name": "stdout",
     "output_type": "stream",
     "text": [
      "Model: \"model_1\"\n",
      "_________________________________________________________________\n",
      "Layer (type)                 Output Shape              Param #   \n",
      "=================================================================\n",
      "input_5 (InputLayer)         [(None, 299, 299, 3)]     0         \n",
      "_________________________________________________________________\n",
      "xception (Functional)        (None, None, None, 2048)  20861480  \n",
      "_________________________________________________________________\n",
      "global_average_pooling2d_1 ( (None, 2048)              0         \n",
      "_________________________________________________________________\n",
      "dense_1 (Dense)              (None, 4)                 8196      \n",
      "=================================================================\n",
      "Total params: 20,869,676\n",
      "Trainable params: 8,196\n",
      "Non-trainable params: 20,861,480\n",
      "_________________________________________________________________\n"
     ]
    }
   ],
   "source": [
    "#Compiliamo il modello\n",
    "model.compile(optimizer='adam',\n",
    "              loss=tf.keras.losses.SparseCategoricalCrossentropy(from_logits=True),\n",
    "              metrics=['accuracy'])\n",
    "\n",
    "model.summary()"
   ]
  },
  {
   "cell_type": "code",
   "execution_count": 31,
   "metadata": {},
   "outputs": [
    {
     "name": "stdout",
     "output_type": "stream",
     "text": [
      "Epoch 1/5\n",
      "530/530 [==============================] - 3752s 7s/step - loss: 1.2114 - accuracy: 0.3473\n",
      "Epoch 2/5\n",
      "530/530 [==============================] - 3908s 7s/step - loss: 1.1791 - accuracy: 0.3696\n",
      "Epoch 3/5\n",
      "530/530 [==============================] - 3925s 7s/step - loss: 1.1690 - accuracy: 0.3766\n",
      "Epoch 4/5\n",
      "530/530 [==============================] - 3951s 7s/step - loss: 1.1617 - accuracy: 0.3808\n",
      "Epoch 5/5\n",
      "530/530 [==============================] - 4264s 8s/step - loss: 1.1568 - accuracy: 0.3832\n"
     ]
    }
   ],
   "source": [
    "#Addestriamo il modello sul train set\n",
    "history = model.fit(train_set, epochs=5)"
   ]
  },
  {
   "cell_type": "code",
   "execution_count": 32,
   "metadata": {},
   "outputs": [
    {
     "data": {
      "image/png": "[encoded data removed]",
      "text/plain": [
       "<Figure size 576x576 with 2 Axes>"
      ]
     },
     "metadata": {
      "needs_background": "light"
     },
     "output_type": "display_data"
    }
   ],
   "source": [
    "import matplotlib.pyplot as plt\n",
    "\n",
    "#Analizziamo l'andamento dell'addestramento\n",
    "acc = history.history['accuracy']\n",
    "loss = history.history['loss']\n",
    "\n",
    "plt.figure(figsize=(8, 8))\n",
    "plt.subplot(2, 1, 1)\n",
    "plt.plot(acc, label='Training Accuracy')\n",
    "plt.legend(loc='lower right')\n",
    "plt.ylabel('Accuracy')\n",
    "plt.ylim([min(plt.ylim()),1])\n",
    "plt.title('Training Accuracy')\n",
    "\n",
    "plt.subplot(2, 1, 2)\n",
    "plt.plot(loss, label='Training Loss')\n",
    "plt.legend(loc='upper right')\n",
    "plt.ylabel('Cross Entropy')\n",
    "plt.ylim([0,1.0])\n",
    "plt.title('Training Loss')\n",
    "plt.xlabel('epoch')\n",
    "plt.show()"
   ]
  },
  {
   "cell_type": "code",
   "execution_count": 33,
   "metadata": {},
   "outputs": [
    {
     "name": "stdout",
     "output_type": "stream",
     "text": [
      "133/133 [==============================] - 1507s 11s/step - loss: 1.1589 - accuracy: 0.3898\n",
      "Test accuracy : 0.3897944688796997\n"
     ]
    }
   ],
   "source": [
    "#Valutiamo le prestazioni del modello sul test set\n",
    "loss_test, accuracy_test = model.evaluate(test_set)\n",
    "print('Test accuracy :', accuracy_test)"
   ]
  },
  {
   "cell_type": "markdown",
   "metadata": {},
   "source": [
    "# FINE TUNING con 5 epoche"
   ]
  },
  {
   "cell_type": "code",
   "execution_count": 34,
   "metadata": {},
   "outputs": [
    {
     "data": {
      "text/plain": [
       "132"
      ]
     },
     "execution_count": 34,
     "metadata": {},
     "output_type": "execute_result"
    }
   ],
   "source": [
    "#'Scongeliamo' il base_model in modo da non addestrare solo i layer più in basso.\n",
    "base_model.trainable = True\n",
    "\n",
    "num_layers = len(base_model.layers)\n",
    "num_layers"
   ]
  },
  {
   "cell_type": "code",
   "execution_count": 35,
   "metadata": {},
   "outputs": [],
   "source": [
    "#Scegliamo di addestrare il modello solo a partire dal centesimo layer in su\n",
    "#quindi congeliamo tutti i layer precedenti.\n",
    "finetune = 100\n",
    "for layer in base_model.layers[:finetune]:\n",
    "    layer.trainable =  False"
   ]
  },
  {
   "cell_type": "code",
   "execution_count": 36,
   "metadata": {},
   "outputs": [
    {
     "name": "stdout",
     "output_type": "stream",
     "text": [
      "Model: \"model_1\"\n",
      "_________________________________________________________________\n",
      "Layer (type)                 Output Shape              Param #   \n",
      "=================================================================\n",
      "input_5 (InputLayer)         [(None, 299, 299, 3)]     0         \n",
      "_________________________________________________________________\n",
      "xception (Functional)        (None, None, None, 2048)  20861480  \n",
      "_________________________________________________________________\n",
      "global_average_pooling2d_1 ( (None, 2048)              0         \n",
      "_________________________________________________________________\n",
      "dense_1 (Dense)              (None, 4)                 8196      \n",
      "=================================================================\n",
      "Total params: 20,869,676\n",
      "Trainable params: 9,486,540\n",
      "Non-trainable params: 11,383,136\n",
      "_________________________________________________________________\n"
     ]
    }
   ],
   "source": [
    "#Ricompiliamo il modello.\n",
    "model.compile(loss=tf.keras.losses.SparseCategoricalCrossentropy(from_logits=True),\n",
    "              optimizer = 'adam',\n",
    "              metrics=['accuracy'])\n",
    "\n",
    "model.summary()"
   ]
  },
  {
   "cell_type": "code",
   "execution_count": 37,
   "metadata": {},
   "outputs": [
    {
     "name": "stdout",
     "output_type": "stream",
     "text": [
      "Epoch 5/10\n",
      "530/530 [==============================] - 6217s 12s/step - loss: 1.3934 - accuracy: 0.1736\n",
      "Epoch 6/10\n",
      "530/530 [==============================] - 6080s 11s/step - loss: 1.3863 - accuracy: 0.1724\n",
      "Epoch 7/10\n",
      "530/530 [==============================] - 6029s 11s/step - loss: 1.3863 - accuracy: 0.1724\n",
      "Epoch 8/10\n",
      "530/530 [==============================] - 5963s 11s/step - loss: 1.3863 - accuracy: 0.1724\n",
      "Epoch 9/10\n",
      "530/530 [==============================] - 5953s 11s/step - loss: 1.3863 - accuracy: 0.1724\n",
      "Epoch 10/10\n",
      "530/530 [==============================] - 5704s 11s/step - loss: 1.3863 - accuracy: 0.1724\n"
     ]
    }
   ],
   "source": [
    "#Continuiamo con l'addestramento\n",
    "finetune_epochs = 5\n",
    "total_epochs =  5 + finetune_epochs\n",
    "\n",
    "history_fine = model.fit(train_set, epochs=total_epochs, initial_epoch=history.epoch[-1])\n",
    "acc += history_fine.history['accuracy']\n",
    "loss += history_fine.history['loss']"
   ]
  },
  {
   "cell_type": "code",
   "execution_count": 38,
   "metadata": {},
   "outputs": [
    {
     "name": "stdout",
     "output_type": "stream",
     "text": [
      "133/133 [==============================] - 957s 7s/step - loss: 1.3863 - accuracy: 0.1647\n",
      "Test accuracy : 0.16465863585472107\n"
     ]
    }
   ],
   "source": [
    "#Valutazione del modello sul test set dopo il fine tuning\n",
    "loss_test_fine, accuracy_test_fine = model.evaluate(test_set)\n",
    "print('Test accuracy :', accuracy_test_fine)"
   ]
  },
  {
   "cell_type": "code",
   "execution_count": null,
   "metadata": {},
   "outputs": [],
   "source": []
  }
 ],
 "metadata": {
  "kernelspec": {
   "display_name": "Python 3",
   "language": "python",
   "name": "python3"
  },
  "language_info": {
   "codemirror_mode": {
    "name": "ipython",
    "version": 3
   },
   "file_extension": ".py",
   "mimetype": "text/x-python",
   "name": "python",
   "nbconvert_exporter": "python",
   "pygments_lexer": "ipython3",
   "version": "3.8.3"
  }
 },
 "nbformat": 4,
 "nbformat_minor": 4
}
