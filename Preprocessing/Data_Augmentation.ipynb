{
 "cells": [
  {
   "cell_type": "code",
   "execution_count": 85,
   "metadata": {},
   "outputs": [],
   "source": [
    "#!pip install tensorflow\n",
    "import pandas as pd\n",
    "import os\n",
    "import seaborn as sns\n",
    "from tqdm import tqdm \n",
    "import matplotlib.pyplot as plt\n",
    "import tensorflow as tf\n",
    "from tensorflow import keras"
   ]
  },
  {
   "cell_type": "code",
   "execution_count": 86,
   "metadata": {},
   "outputs": [],
   "source": [
    "#Il dataset con tutte le immagini si trova nella stessa cartella di questo file eseguibile.\n",
    "#Nella lista all_original_images ci saranno tutte le immagini del dataset e ogni elemento sarà del tipo:\n",
    "#'Nome_Classe-numero.png'\n",
    "all_original_images = []\n",
    "for dirname,  _, filenames in os.walk(\".\"):\n",
    "    for filename in filenames:\n",
    "        if (filename[-3:] == 'png'):\n",
    "            all_original_images.append(os.path.join(filename))"
   ]
  },
  {
   "cell_type": "code",
   "execution_count": 87,
   "metadata": {},
   "outputs": [
    {
     "data": {
      "text/plain": [
       "21165"
      ]
     },
     "execution_count": 87,
     "metadata": {},
     "output_type": "execute_result"
    }
   ],
   "source": [
    "#Verifichiamo di aver caricato tutte le immagini cioè che la lunghezza sia 21165\n",
    "len(all_original_images)"
   ]
  },
  {
   "cell_type": "code",
   "execution_count": 88,
   "metadata": {},
   "outputs": [],
   "source": [
    "#La lista labels tiene traccia dell'etichetta associata ad ogni immagine quindi ogni elemento sarà del tipo:\n",
    "#'Nome_Classe'\n",
    "labels = []\n",
    "for image in all_original_images:\n",
    "    labels.append(image.split(\"-\")[0])"
   ]
  },
  {
   "cell_type": "code",
   "execution_count": 89,
   "metadata": {},
   "outputs": [
    {
     "data": {
      "image/png": "[encoded data removed]",
      "text/plain": [
       "<Figure size 432x288 with 1 Axes>"
      ]
     },
     "metadata": {
      "needs_background": "light"
     },
     "output_type": "display_data"
    },
    {
     "name": "stdout",
     "output_type": "stream",
     "text": [
      "Normal: 10192\n",
      "Lung Opacity: 6012\n",
      "Viral Pneumonia: 1345\n",
      "Covid: 3616\n"
     ]
    }
   ],
   "source": [
    "df = pd.DataFrame(labels, columns=['Labels'])\n",
    "sns.countplot(df['Labels'])\n",
    "plt.show()\n",
    "\n",
    "print('Normal:', labels.count('Normal'))\n",
    "print('Lung Opacity:', labels.count('Lung_Opacity'))\n",
    "print('Viral Pneumonia:', labels.count('Viral Pneumonia'))\n",
    "print('Covid:', labels.count('COVID'))"
   ]
  },
  {
   "cell_type": "markdown",
   "metadata": {},
   "source": [
    "Il dataset è sbilanciato, proseguiamo dunque con la data augmentation SOLO PER LA CARTELLA TRAIN (ottenuta eseguendo uno split del dataset 80% train e 20% test) solo per la classe COVID, Viral Pneumonia e Lung Opacity. Le operazioni di trasformazione scelte sono: rotazione, traslazione."
   ]
  },
  {
   "cell_type": "code",
   "execution_count": null,
   "metadata": {},
   "outputs": [],
   "source": [
    "all_train_images = []\n",
    "for dirname,  _, filenames in os.walk('train'):\n",
    "    for filename in filenames:\n",
    "        if (filename[-3:] == 'png'):\n",
    "            all_train_images.append(os.path.join(filename))"
   ]
  },
  {
   "cell_type": "code",
   "execution_count": 90,
   "metadata": {},
   "outputs": [],
   "source": [
    "from numpy import expand_dims\n",
    "from keras.preprocessing.image import load_img\n",
    "from keras.preprocessing.image import img_to_array\n",
    "from keras.preprocessing.image import ImageDataGenerator\n",
    "\n",
    "for k in all_train_images:\n",
    "    image_class = k.split(\"-\")[0]\n",
    "    if (image_class == 'Normal'):\n",
    "        continue\n",
    "    img = load_img('train'+image_class+'/'+k)  \n",
    "    data = img_to_array(img)\n",
    "    sample = expand_dims(data, 0)\n",
    "    datagen = ImageDataGenerator(rotation_range=180, width_shift_range=100, height_shift_range=100) \n",
    "    i = 0\n",
    "    for batch in datagen.flow(sample, batch_size = 1, save_to_dir ='train'+image_class, save_prefix =image_class+'-aug-', save_format ='png'):\n",
    "        i += 1\n",
    "        if (((image_class == 'Lung_Opacity') and (i > 1))\n",
    "            or ((image_class == 'COVID') and (i > 2)) \n",
    "            or ((image_class == 'Viral Pneumonia') and (i > 8))): \n",
    "            break\n",
    "    "
   ]
  }
 ],
 "metadata": {
  "kernelspec": {
   "display_name": "Python 3",
   "language": "python",
   "name": "python3"
  },
  "language_info": {
   "codemirror_mode": {
    "name": "ipython",
    "version": 3
   },
   "file_extension": ".py",
   "mimetype": "text/x-python",
   "name": "python",
   "nbconvert_exporter": "python",
   "pygments_lexer": "ipython3",
   "version": "3.8.3"
  }
 },
 "nbformat": 4,
 "nbformat_minor": 4
}
