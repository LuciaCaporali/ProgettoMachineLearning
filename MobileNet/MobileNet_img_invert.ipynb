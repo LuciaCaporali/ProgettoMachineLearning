{
 "cells": [
  {
   "cell_type": "code",
   "execution_count": 27,
   "metadata": {},
   "outputs": [],
   "source": [
    "#!pip install tensorflow"
   ]
  },
  {
   "cell_type": "code",
   "execution_count": 28,
   "metadata": {},
   "outputs": [],
   "source": [
    "import tensorflow as tf\n",
    "from tensorflow import keras"
   ]
  },
  {
   "cell_type": "code",
   "execution_count": 29,
   "metadata": {},
   "outputs": [
    {
     "name": "stdout",
     "output_type": "stream",
     "text": [
      "Found 16932 files belonging to 4 classes.\n",
      "Found 4233 files belonging to 4 classes.\n"
     ]
    }
   ],
   "source": [
    "#Creiamo un tf.data.Dataset a partire dalle immagini nella directory su disco per il training set e il test set.\n",
    "train_set = tf.keras.preprocessing.image_dataset_from_directory(\n",
    "    'train',\n",
    "    labels='inferred',\n",
    "    label_mode='int'\n",
    ")\n",
    "\n",
    "test_set = tf.keras.preprocessing.image_dataset_from_directory(\n",
    "    'test',\n",
    "    labels='inferred',\n",
    "    label_mode='int'\n",
    ")"
   ]
  },
  {
   "cell_type": "code",
   "execution_count": 30,
   "metadata": {},
   "outputs": [
    {
     "name": "stdout",
     "output_type": "stream",
     "text": [
      "(32, 256, 256, 3)\n",
      "(32,)\n"
     ]
    }
   ],
   "source": [
    "#image_batch è un tensore della forma (32, 256, 256, 3) .\n",
    "#Questo è un batch di 32 immagini di forma 256x256x3. \n",
    "#Il label_batch è un tensore della forma (32,4) cioè in ogni batch ci sono 32 immagini e le etichette sono 4\n",
    "for image_batch, labels_batch in train_set:\n",
    "    print(image_batch.shape)\n",
    "    print(labels_batch.shape)\n",
    "    break"
   ]
  },
  {
   "cell_type": "markdown",
   "metadata": {},
   "source": [
    "MobileNet deve ricevere come input immagini di dimensione (224,224,3), occorre dunque modificare la dimensione delle immagini. Inoltre i pixel devono assumere valori tra [-1, +1] e non da 0 a 255, occorre quindi anche eseguire una normalizzazione"
   ]
  },
  {
   "cell_type": "code",
   "execution_count": 31,
   "metadata": {},
   "outputs": [],
   "source": [
    "#!pip install tensorflow --upgrade"
   ]
  },
  {
   "cell_type": "code",
   "execution_count": 32,
   "metadata": {},
   "outputs": [],
   "source": [
    "from tensorflow.keras import layers\n",
    "\n",
    "resize_rescale = tf.keras.Sequential([\n",
    "  layers.experimental.preprocessing.Resizing(224, 224),\n",
    "  layers.experimental.preprocessing.Rescaling(scale=1./127.5, offset=-1)\n",
    "\n",
    "])\n",
    "\n",
    "def prepare(ds):\n",
    "    #Resize\n",
    "    ds = ds.map(lambda x, y: (resize_rescale(x),y))\n",
    "    return ds\n",
    "\n",
    "train_set = prepare(train_set)\n",
    "test_set = prepare(test_set)\n"
   ]
  },
  {
   "cell_type": "code",
   "execution_count": 33,
   "metadata": {},
   "outputs": [
    {
     "name": "stdout",
     "output_type": "stream",
     "text": [
      "(32, 224, 224, 3)\n",
      "(32,)\n"
     ]
    }
   ],
   "source": [
    "#Verifichiamo che sia avvenuto il resizing \n",
    "for image_batch, labels_batch in train_set:\n",
    "    print(image_batch.shape)\n",
    "    print(labels_batch.shape)\n",
    "    break"
   ]
  },
  {
   "cell_type": "markdown",
   "metadata": {},
   "source": [
    "# TRANSFER LEARNING "
   ]
  },
  {
   "cell_type": "code",
   "execution_count": 34,
   "metadata": {},
   "outputs": [
    {
     "name": "stdout",
     "output_type": "stream",
     "text": [
      "WARNING:tensorflow:`input_shape` is undefined or non-square, or `rows` is not in [96, 128, 160, 192, 224]. Weights for input shape (224, 224) will be loaded as the default.\n"
     ]
    }
   ],
   "source": [
    "#Creiamo il modello base considerando MobileNet, sviluppato da Google e pre-addestrato su ImageNet.\n",
    "#Non consideriamo gli ultimi layer che sono finalizzati agli obiettivi di classificazione di Imagenet\n",
    "base_model = tf.keras.applications.MobileNetV2(include_top=False, weights='imagenet')\n"
   ]
  },
  {
   "cell_type": "code",
   "execution_count": 35,
   "metadata": {},
   "outputs": [
    {
     "name": "stdout",
     "output_type": "stream",
     "text": [
      "(32, 7, 7, 1280)\n"
     ]
    }
   ],
   "source": [
    "#Il base_model si comporta quindi come un estrattore di featues,\n",
    "#In particolare estrae dalle immagini 224x224x3 in blocchi 7x7x1280 di features. \n",
    "image_batch, label_batch = next(iter(train_set))\n",
    "feature_batch = base_model(image_batch)\n",
    "print(feature_batch.shape)"
   ]
  },
  {
   "cell_type": "code",
   "execution_count": 36,
   "metadata": {},
   "outputs": [],
   "source": [
    "#Congeliamo il resto dei layer impedendone così l'aggiornamento durante l'addestramento.\n",
    "base_model.trainable = False"
   ]
  },
  {
   "cell_type": "code",
   "execution_count": 37,
   "metadata": {},
   "outputs": [
    {
     "name": "stdout",
     "output_type": "stream",
     "text": [
      "(32, 1280)\n"
     ]
    }
   ],
   "source": [
    "#Ora a partire dal blocco di features, usiamo un layer tf.keras.layers.GlobalAveragePooling2D,\n",
    "#facendo una media in una finestra 5x5, per generare le predizioni finali poichè ci consente di\n",
    "#convertire le features in un singolo vettore di 1280 elementi per immagine.\n",
    "global_average_layer = tf.keras.layers.GlobalAveragePooling2D()\n",
    "feature_batch_average = global_average_layer(feature_batch)\n",
    "print(feature_batch_average.shape)"
   ]
  },
  {
   "cell_type": "code",
   "execution_count": 38,
   "metadata": {},
   "outputs": [
    {
     "name": "stdout",
     "output_type": "stream",
     "text": [
      "(32, 4)\n"
     ]
    }
   ],
   "source": [
    "#Definiamo uno strato fully-connected per convertire queste features in una singola predizione.\n",
    "prediction_layer = tf.keras.layers.Dense(4, activation='relu')\n",
    "prediction_batch = prediction_layer(feature_batch_average)\n",
    "print(prediction_batch.shape)"
   ]
  },
  {
   "cell_type": "code",
   "execution_count": 39,
   "metadata": {},
   "outputs": [],
   "source": [
    "#Costruiamo il modello considerando quanto definito precedentemente\n",
    "inputs = tf.keras.Input(shape=(224, 224, 3))\n",
    "x = base_model(inputs, training=False)\n",
    "x = global_average_layer(x)\n",
    "outputs = prediction_layer(x)\n",
    "model = tf.keras.Model(inputs, outputs)"
   ]
  },
  {
   "cell_type": "code",
   "execution_count": 40,
   "metadata": {},
   "outputs": [
    {
     "name": "stdout",
     "output_type": "stream",
     "text": [
      "Model: \"model_1\"\n",
      "_________________________________________________________________\n",
      "Layer (type)                 Output Shape              Param #   \n",
      "=================================================================\n",
      "input_5 (InputLayer)         [(None, 224, 224, 3)]     0         \n",
      "_________________________________________________________________\n",
      "mobilenetv2_1.00_224 (Functi (None, None, None, 1280)  2257984   \n",
      "_________________________________________________________________\n",
      "global_average_pooling2d_1 ( (None, 1280)              0         \n",
      "_________________________________________________________________\n",
      "dense_1 (Dense)              (None, 4)                 5124      \n",
      "=================================================================\n",
      "Total params: 2,263,108\n",
      "Trainable params: 5,124\n",
      "Non-trainable params: 2,257,984\n",
      "_________________________________________________________________\n"
     ]
    }
   ],
   "source": [
    "#Compiliamo il modello\n",
    "model.compile(optimizer='adam',\n",
    "              loss=tf.keras.losses.SparseCategoricalCrossentropy(from_logits=True),\n",
    "              metrics=['accuracy'])\n",
    "\n",
    "model.summary()"
   ]
  },
  {
   "cell_type": "code",
   "execution_count": 41,
   "metadata": {},
   "outputs": [
    {
     "name": "stdout",
     "output_type": "stream",
     "text": [
      "Epoch 1/5\n",
      "530/530 [==============================] - 534s 999ms/step - loss: 0.7588 - accuracy: 0.7206\n",
      "Epoch 2/5\n",
      "530/530 [==============================] - 530s 998ms/step - loss: 0.6528 - accuracy: 0.7695\n",
      "Epoch 3/5\n",
      "530/530 [==============================] - 531s 1s/step - loss: 0.6240 - accuracy: 0.7864\n",
      "Epoch 4/5\n",
      "530/530 [==============================] - 514s 968ms/step - loss: 0.6065 - accuracy: 0.7954\n",
      "Epoch 5/5\n",
      "530/530 [==============================] - 525s 989ms/step - loss: 0.5957 - accuracy: 0.8034\n"
     ]
    }
   ],
   "source": [
    "#Addestriamo il modello sul train set\n",
    "history = model.fit(train_set, epochs=5)"
   ]
  },
  {
   "cell_type": "code",
   "execution_count": 42,
   "metadata": {},
   "outputs": [
    {
     "data": {
      "image/png": "[encoded data removed]",
      "text/plain": [
       "<Figure size 576x576 with 2 Axes>"
      ]
     },
     "metadata": {
      "needs_background": "light"
     },
     "output_type": "display_data"
    }
   ],
   "source": [
    "import matplotlib.pyplot as plt\n",
    "\n",
    "#Analizziamo l'andamento dell'addestramento\n",
    "acc = history.history['accuracy']\n",
    "loss = history.history['loss']\n",
    "\n",
    "plt.figure(figsize=(8, 8))\n",
    "plt.subplot(2, 1, 1)\n",
    "plt.plot(acc, label='Training Accuracy')\n",
    "plt.legend(loc='lower right')\n",
    "plt.ylabel('Accuracy')\n",
    "plt.ylim([min(plt.ylim()),1])\n",
    "plt.title('Training Accuracy')\n",
    "\n",
    "plt.subplot(2, 1, 2)\n",
    "plt.plot(loss, label='Training Loss')\n",
    "plt.legend(loc='upper right')\n",
    "plt.ylabel('Cross Entropy')\n",
    "plt.ylim([0,1.0])\n",
    "plt.title('Training Loss')\n",
    "plt.xlabel('epoch')\n",
    "plt.show()"
   ]
  },
  {
   "cell_type": "code",
   "execution_count": 43,
   "metadata": {},
   "outputs": [
    {
     "name": "stdout",
     "output_type": "stream",
     "text": [
      "133/133 [==============================] - 132s 981ms/step - loss: 0.6537 - accuracy: 0.7808\n",
      "Test accuracy : 0.7807701230049133\n"
     ]
    }
   ],
   "source": [
    "#Valutiamo le prestazioni del modello sul test set\n",
    "loss_test, accuracy_test = model.evaluate(test_set)\n",
    "print('Test accuracy :', accuracy_test)"
   ]
  },
  {
   "cell_type": "markdown",
   "metadata": {},
   "source": [
    "# FINE TUNING "
   ]
  },
  {
   "cell_type": "markdown",
   "metadata": {},
   "source": [
    "Un modo per incrementare le performance è eseguire fine-tuning, dove nel processo di training si 'aggiustano' i pesi degli ultimi layers così da specializzare la rete ancor di più al nostro dataset."
   ]
  },
  {
   "cell_type": "code",
   "execution_count": 44,
   "metadata": {},
   "outputs": [
    {
     "data": {
      "text/plain": [
       "154"
      ]
     },
     "execution_count": 44,
     "metadata": {},
     "output_type": "execute_result"
    }
   ],
   "source": [
    "#'Scongeliamo' il base_model in modo da non addestrare solo i layer più in basso.\n",
    "base_model.trainable = True\n",
    "\n",
    "num_layers = len(base_model.layers)\n",
    "num_layers"
   ]
  },
  {
   "cell_type": "code",
   "execution_count": 45,
   "metadata": {},
   "outputs": [],
   "source": [
    "#Scegliamo di addestrare il modello solo a partire dal centesimo layer in su.\n",
    "#quindi congeliamo tutti i layer precedenti.\n",
    "finetune = 100\n",
    "for layer in base_model.layers[:finetune]:\n",
    "    layer.trainable =  False"
   ]
  },
  {
   "cell_type": "code",
   "execution_count": 46,
   "metadata": {},
   "outputs": [
    {
     "name": "stdout",
     "output_type": "stream",
     "text": [
      "Model: \"model_1\"\n",
      "_________________________________________________________________\n",
      "Layer (type)                 Output Shape              Param #   \n",
      "=================================================================\n",
      "input_5 (InputLayer)         [(None, 224, 224, 3)]     0         \n",
      "_________________________________________________________________\n",
      "mobilenetv2_1.00_224 (Functi (None, None, None, 1280)  2257984   \n",
      "_________________________________________________________________\n",
      "global_average_pooling2d_1 ( (None, 1280)              0         \n",
      "_________________________________________________________________\n",
      "dense_1 (Dense)              (None, 4)                 5124      \n",
      "=================================================================\n",
      "Total params: 2,263,108\n",
      "Trainable params: 2,179,716\n",
      "Non-trainable params: 83,392\n",
      "_________________________________________________________________\n"
     ]
    }
   ],
   "source": [
    "#Ricompiliamo il modello.\n",
    "model.compile(loss=tf.keras.losses.SparseCategoricalCrossentropy(from_logits=True),\n",
    "              optimizer = 'adam',\n",
    "              metrics=['accuracy'])\n",
    "\n",
    "model.summary()"
   ]
  },
  {
   "cell_type": "code",
   "execution_count": 47,
   "metadata": {},
   "outputs": [
    {
     "name": "stdout",
     "output_type": "stream",
     "text": [
      "Epoch 5/10\n",
      "530/530 [==============================] - 1042s 2s/step - loss: 1.4104 - accuracy: 0.1739\n",
      "Epoch 6/10\n",
      "530/530 [==============================] - 1066s 2s/step - loss: 1.3863 - accuracy: 0.1724\n",
      "Epoch 7/10\n",
      "530/530 [==============================] - 1093s 2s/step - loss: 1.3863 - accuracy: 0.1724\n",
      "Epoch 8/10\n",
      "530/530 [==============================] - 1094s 2s/step - loss: 1.3863 - accuracy: 0.1724\n",
      "Epoch 9/10\n",
      "530/530 [==============================] - 1086s 2s/step - loss: 1.3863 - accuracy: 0.1724\n",
      "Epoch 10/10\n",
      "530/530 [==============================] - 1078s 2s/step - loss: 1.3863 - accuracy: 0.1724\n"
     ]
    }
   ],
   "source": [
    "#Continuiamo con l'addestramento.\n",
    "finetune_epochs = 5\n",
    "total_epochs =  5 + finetune_epochs\n",
    "\n",
    "history_fine = model.fit(train_set, epochs=total_epochs, initial_epoch=history.epoch[-1])\n",
    "acc += history_fine.history['accuracy']\n",
    "loss += history_fine.history['loss']"
   ]
  },
  {
   "cell_type": "code",
   "execution_count": 48,
   "metadata": {},
   "outputs": [
    {
     "data": {
      "image/png": "[encoded data removed]",
      "text/plain": [
       "<Figure size 576x576 with 2 Axes>"
      ]
     },
     "metadata": {
      "needs_background": "light"
     },
     "output_type": "display_data"
    }
   ],
   "source": [
    "#Analizziamo l'andamento dell'addestramento.\n",
    "initial_epochs = 5\n",
    "plt.figure(figsize=(8, 8))\n",
    "plt.subplot(2, 1, 1)\n",
    "plt.plot(acc, label='Training Accuracy')\n",
    "plt.ylim([0.8, 1])\n",
    "plt.plot([initial_epochs-1,initial_epochs-1],\n",
    "          plt.ylim(), label='Start Fine Tuning')\n",
    "plt.legend(loc='lower right')\n",
    "plt.title('Training Accuracy')\n",
    "\n",
    "plt.subplot(2, 1, 2)\n",
    "plt.plot(loss, label='Training Loss')\n",
    "\n",
    "plt.ylim([0, 1.0])\n",
    "plt.plot([initial_epochs-1,initial_epochs-1],\n",
    "         plt.ylim(), label='Start Fine Tuning')\n",
    "plt.legend(loc='upper right')\n",
    "plt.title('Training Loss')\n",
    "plt.xlabel('epoch')\n",
    "plt.show()\n"
   ]
  },
  {
   "cell_type": "code",
   "execution_count": 49,
   "metadata": {},
   "outputs": [
    {
     "name": "stdout",
     "output_type": "stream",
     "text": [
      "133/133 [==============================] - 140s 1s/step - loss: 1.3863 - accuracy: 0.1647\n",
      "Test accuracy : 0.16465863585472107\n"
     ]
    }
   ],
   "source": [
    "#Valutazione del modello sul test set.\n",
    "loss_test, accuracy_test = model.evaluate(test_set)\n",
    "print('Test accuracy :', accuracy_test)"
   ]
  },
  {
   "cell_type": "code",
   "execution_count": null,
   "metadata": {},
   "outputs": [],
   "source": []
  }
 ],
 "metadata": {
  "kernelspec": {
   "display_name": "Python 3",
   "language": "python",
   "name": "python3"
  },
  "language_info": {
   "codemirror_mode": {
    "name": "ipython",
    "version": 3
   },
   "file_extension": ".py",
   "mimetype": "text/x-python",
   "name": "python",
   "nbconvert_exporter": "python",
   "pygments_lexer": "ipython3",
   "version": "3.8.3"
  }
 },
 "nbformat": 4,
 "nbformat_minor": 4
}
