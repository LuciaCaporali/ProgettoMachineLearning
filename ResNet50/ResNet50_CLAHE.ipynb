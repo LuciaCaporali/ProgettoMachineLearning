{
 "cells": [
  {
   "cell_type": "code",
   "execution_count": 1,
   "metadata": {},
   "outputs": [],
   "source": [
    "import tensorflow as tf\n",
    "from tensorflow import keras\n",
    "from tensorflow.keras import layers\n",
    "from tensorflow.keras.applications.resnet50 import ResNet50\n",
    "from tensorflow.keras.applications.resnet50 import preprocess_input\n",
    "from keras.models import Sequential\n",
    "from keras.layers import Dense\n",
    "from keras.layers import Flatten\n",
    "import matplotlib.pyplot as plt"
   ]
  },
  {
   "cell_type": "markdown",
   "metadata": {},
   "source": [
    "# RESNET"
   ]
  },
  {
   "cell_type": "code",
   "execution_count": 2,
   "metadata": {},
   "outputs": [
    {
     "name": "stdout",
     "output_type": "stream",
     "text": [
      "Found 16932 files belonging to 4 classes.\n",
      "Found 4233 files belonging to 4 classes.\n"
     ]
    }
   ],
   "source": [
    "#Creiamo un tf.data.Dataset a partire dalle immagini nella directory su disco per il training set e il test set.\n",
    "train_set = tf.keras.preprocessing.image_dataset_from_directory(\n",
    "    'train',\n",
    "    labels='inferred',\n",
    "    label_mode='int'\n",
    ")\n",
    "\n",
    "test_set = tf.keras.preprocessing.image_dataset_from_directory(\n",
    "    'test',\n",
    "    labels='inferred',\n",
    "    label_mode='int'\n",
    ")"
   ]
  },
  {
   "cell_type": "code",
   "execution_count": 3,
   "metadata": {},
   "outputs": [
    {
     "name": "stdout",
     "output_type": "stream",
     "text": [
      "(32, 256, 256, 3)\n",
      "(32,)\n"
     ]
    }
   ],
   "source": [
    "#image_batch è un tensore della forma (32, 256, 256, 3).\n",
    "#Questo è un batch di 32 immagini di forma 256x256x3. \n",
    "#Il label_batch è un tensore della forma (32,4) cioè in ogni batch ci sono 32 immagini e le etichette sono 4.\n",
    "for image_batch, labels_batch in train_set:\n",
    "    print(image_batch.shape)\n",
    "    print(labels_batch.shape)\n",
    "    break"
   ]
  },
  {
   "cell_type": "code",
   "execution_count": 4,
   "metadata": {},
   "outputs": [
    {
     "name": "stdout",
     "output_type": "stream",
     "text": [
      "(<tf.Tensor: shape=(32, 256, 256, 3), dtype=float32, numpy=\n",
      "array([[[[  5.846138 ,   5.846138 ,   5.846138 ],\n",
      "         [  6.       ,   6.       ,   6.       ],\n",
      "         [  6.6987762,   6.6987762,   6.6987762],\n",
      "         ...,\n",
      "         [  6.748047 ,   6.748047 ,   6.748047 ],\n",
      "         [  6.748047 ,   6.748047 ,   6.748047 ],\n",
      "         [  6.748047 ,   6.748047 ,   6.748047 ]],\n",
      "\n",
      "        [[  4.1679688,   4.1679688,   4.1679688],\n",
      "         [  6.1269608,   6.1269608,   6.1269608],\n",
      "         [  5.6640625,   5.6640625,   5.6640625],\n",
      "         ...,\n",
      "         [  4.317402 ,   4.317402 ,   4.317402 ],\n",
      "         [  3.6230545,   3.6230545,   3.6230545],\n",
      "         [  3.9576797,   3.9576797,   3.9576797]],\n",
      "\n",
      "        [[  5.0078125,   5.0078125,   5.0078125],\n",
      "         [  7.661152 ,   7.661152 ,   7.661152 ],\n",
      "         [ 10.141438 ,  10.141438 ,  10.141438 ],\n",
      "         ...,\n",
      "         [  8.199219 ,   8.199219 ,   8.199219 ],\n",
      "         [  5.7574806,   5.7574806,   5.7574806],\n",
      "         [  6.4220963,   6.4220963,   6.4220963]],\n",
      "\n",
      "        ...,\n",
      "\n",
      "        [[ 11.3359375,  11.3359375,  11.3359375],\n",
      "         [ 16.511719 ,  16.511719 ,  16.511719 ],\n",
      "         [ 22.679688 ,  22.679688 ,  22.679688 ],\n",
      "         ...,\n",
      "         [ 20.199219 ,  20.199219 ,  20.199219 ],\n",
      "         [ 12.3515625,  12.3515625,  12.3515625],\n",
      "         [  6.2597656,   6.2597656,   6.2597656]],\n",
      "\n",
      "        [[ 11.3359375,  11.3359375,  11.3359375],\n",
      "         [ 16.511719 ,  16.511719 ,  16.511719 ],\n",
      "         [ 22.679688 ,  22.679688 ,  22.679688 ],\n",
      "         ...,\n",
      "         [ 17.863281 ,  17.863281 ,  17.863281 ],\n",
      "         [ 10.015625 ,  10.015625 ,  10.015625 ],\n",
      "         [  5.2942734,   5.2942734,   5.2942734]],\n",
      "\n",
      "        [[  8.133461 ,   8.133461 ,   8.133461 ],\n",
      "         [ 18.34375  ,  18.34375  ,  18.34375  ],\n",
      "         [ 23.742409 ,  23.742409 ,  23.742409 ],\n",
      "         ...,\n",
      "         [ 16.058704 ,  16.058704 ,  16.058704 ],\n",
      "         [  9.280926 ,   9.280926 ,   9.280926 ],\n",
      "         [  5.251953 ,   5.251953 ,   5.251953 ]]],\n",
      "\n",
      "\n",
      "       [[[ 19.503906 ,  19.503906 ,  19.503906 ],\n",
      "         [ 20.328125 ,  20.328125 ,  20.328125 ],\n",
      "         [ 16.496094 ,  16.496094 ,  16.496094 ],\n",
      "         ...,\n",
      "         [ 27.503906 ,  27.503906 ,  27.503906 ],\n",
      "         [ 29.685223 ,  29.685223 ,  29.685223 ],\n",
      "         [ 25.839844 ,  25.839844 ,  25.839844 ]],\n",
      "\n",
      "        [[ 23.23145  ,  23.23145  ,  23.23145  ],\n",
      "         [ 24.811527 ,  24.811527 ,  24.811527 ],\n",
      "         [ 20.956367 ,  20.956367 ,  20.956367 ],\n",
      "         ...,\n",
      "         [ 32.24414  ,  32.24414  ,  32.24414  ],\n",
      "         [ 33.928707 ,  33.928707 ,  33.928707 ],\n",
      "         [ 29.685223 ,  29.685223 ,  29.685223 ]],\n",
      "\n",
      "        [[ 21.775501 ,  21.775501 ,  21.775501 ],\n",
      "         [ 26.513378 ,  26.513378 ,  26.513378 ],\n",
      "         [ 24.865494 ,  24.865494 ,  24.865494 ],\n",
      "         ...,\n",
      "         [ 30.       ,  30.       ,  30.       ],\n",
      "         [ 32.24414  ,  32.24414  ,  32.24414  ],\n",
      "         [ 27.503906 ,  27.503906 ,  27.503906 ]],\n",
      "\n",
      "        ...,\n",
      "\n",
      "        [[ 74.81802  ,  74.81802  ,  74.81802  ],\n",
      "         [101.21941  , 101.21941  , 101.21941  ],\n",
      "         [115.74694  , 115.74694  , 115.74694  ],\n",
      "         ...,\n",
      "         [ 14.       ,  14.       ,  14.       ],\n",
      "         [ 16.24414  ,  16.24414  ,  16.24414  ],\n",
      "         [ 12.419922 ,  12.419922 ,  12.419922 ]],\n",
      "\n",
      "        [[ 76.057945 ,  76.057945 ,  76.057945 ],\n",
      "         [101.84277  , 101.84277  , 101.84277  ],\n",
      "         [114.27867  , 114.27867  , 114.27867  ],\n",
      "         ...,\n",
      "         [ 16.24414  ,  16.24414  ,  16.24414  ],\n",
      "         [ 16.809559 ,  16.809559 ,  16.809559 ],\n",
      "         [ 13.790367 ,  13.790367 ,  13.790367 ]],\n",
      "\n",
      "        [[ 62.80675  ,  62.80675  ,  62.80675  ],\n",
      "         [ 82.25554  ,  82.25554  ,  82.25554  ],\n",
      "         [ 88.12924  ,  88.12924  ,  88.12924  ],\n",
      "         ...,\n",
      "         [ 12.419922 ,  12.419922 ,  12.419922 ],\n",
      "         [ 12.419922 ,  12.419922 ,  12.419922 ],\n",
      "         [  9.671875 ,   9.671875 ,   9.671875 ]]],\n",
      "\n",
      "\n",
      "       [[[ 42.7347   ,  42.7347   ,  42.7347   ],\n",
      "         [ 42.503906 ,  42.503906 ,  42.503906 ],\n",
      "         [ 42.503906 ,  42.503906 ,  42.503906 ],\n",
      "         ...,\n",
      "         [ 14.3359375,  14.3359375,  14.3359375],\n",
      "         [ 15.706383 ,  15.706383 ,  15.706383 ],\n",
      "         [ 16.167969 ,  16.167969 ,  16.167969 ]],\n",
      "\n",
      "        [[ 50.11915  ,  50.11915  ,  50.11915  ],\n",
      "         [ 48.75586  ,  48.75586  ,  48.75586  ],\n",
      "         [ 48.75586  ,  48.75586  ,  48.75586  ],\n",
      "         ...,\n",
      "         [ 17.496094 ,  17.496094 ,  17.496094 ],\n",
      "         [ 17.496094 ,  17.496094 ,  17.496094 ],\n",
      "         [ 17.496094 ,  17.496094 ,  17.496094 ]],\n",
      "\n",
      "        [[ 48.251953 ,  48.251953 ,  48.251953 ],\n",
      "         [ 51.       ,  51.       ,  51.       ],\n",
      "         [ 51.       ,  51.       ,  51.       ],\n",
      "         ...,\n",
      "         [ 16.       ,  16.       ,  16.       ],\n",
      "         [ 16.       ,  16.       ,  16.       ],\n",
      "         [ 16.       ,  16.       ,  16.       ]],\n",
      "\n",
      "        ...,\n",
      "\n",
      "        [[ 56.       ,  56.       ,  56.       ],\n",
      "         [ 56.       ,  56.       ,  56.       ],\n",
      "         [ 56.       ,  56.       ,  56.       ],\n",
      "         ...,\n",
      "         [131.25305  , 131.25305  , 131.25305  ],\n",
      "         [127.71388  , 127.71388  , 127.71388  ],\n",
      "         [126.73187  , 126.73187  , 126.73187  ]],\n",
      "\n",
      "        [[ 55.87435  ,  55.87435  ,  55.87435  ],\n",
      "         [ 54.503906 ,  54.503906 ,  54.503906 ],\n",
      "         [ 54.503906 ,  54.503906 ,  54.503906 ],\n",
      "         ...,\n",
      "         [127.015625 , 127.015625 , 127.015625 ],\n",
      "         [124.771484 , 124.771484 , 124.771484 ],\n",
      "         [122.18359  , 122.18359  , 122.18359  ]],\n",
      "\n",
      "        [[ 49.573784 ,  49.573784 ,  49.573784 ],\n",
      "         [ 49.41992  ,  49.41992  ,  49.41992  ],\n",
      "         [ 49.41992  ,  49.41992  ,  49.41992  ],\n",
      "         ...,\n",
      "         [101.18359  , 101.18359  , 101.18359  ],\n",
      "         [ 99.62468  ,  99.62468  ,  99.62468  ],\n",
      "         [ 98.10666  ,  98.10666  ,  98.10666  ]]],\n",
      "\n",
      "\n",
      "       ...,\n",
      "\n",
      "\n",
      "       [[[ 25.83041  ,  25.83041  ,  25.83041  ],\n",
      "         [  8.355476 ,   8.355476 ,   8.355476 ],\n",
      "         [  2.       ,   2.       ,   2.       ],\n",
      "         ...,\n",
      "         [ 10.496094 ,  10.496094 ,  10.496094 ],\n",
      "         [ 12.055012 ,  12.055012 ,  12.055012 ],\n",
      "         [ 12.580078 ,  12.580078 ,  12.580078 ]],\n",
      "\n",
      "        [[  6.2998085,   6.2998085,   6.2998085],\n",
      "         [  3.6787224,   3.6787224,   3.6787224],\n",
      "         [  2.       ,   2.       ,   2.       ],\n",
      "         ...,\n",
      "         [  5.       ,   5.       ,   5.       ],\n",
      "         [  6.6787224,   6.6787224,   6.6787224],\n",
      "         [  6.7825546,   6.7825546,   6.7825546]],\n",
      "\n",
      "        [[  2.       ,   2.       ,   2.       ],\n",
      "         [  2.       ,   2.       ,   2.       ],\n",
      "         [  2.       ,   2.       ,   2.       ],\n",
      "         ...,\n",
      "         [  5.       ,   5.       ,   5.       ],\n",
      "         [  5.       ,   5.       ,   5.       ],\n",
      "         [  3.1679688,   3.1679688,   3.1679688]],\n",
      "\n",
      "        ...,\n",
      "\n",
      "        [[  6.8320312,   6.8320312,   6.8320312],\n",
      "         [  5.       ,   5.       ,   5.       ],\n",
      "         [  5.       ,   5.       ,   5.       ],\n",
      "         ...,\n",
      "         [  6.       ,   6.       ,   6.       ],\n",
      "         [  6.       ,   6.       ,   6.       ],\n",
      "         [  3.2519531,   3.2519531,   3.2519531]],\n",
      "\n",
      "        [[  6.8320312,   6.8320312,   6.8320312],\n",
      "         [  5.       ,   5.       ,   5.       ],\n",
      "         [  5.       ,   5.       ,   5.       ],\n",
      "         ...,\n",
      "         [  6.       ,   6.       ,   6.       ],\n",
      "         [  6.       ,   6.       ,   6.       ],\n",
      "         [  5.307621 ,   5.307621 ,   5.307621 ]],\n",
      "\n",
      "        [[  7.671116 ,   7.671116 ,   7.671116 ],\n",
      "         [  5.       ,   5.       ,   5.       ],\n",
      "         [  5.       ,   5.       ,   5.       ],\n",
      "         ...,\n",
      "         [  6.       ,   6.       ,   6.       ],\n",
      "         [  6.       ,   6.       ,   6.       ],\n",
      "         [  6.       ,   6.       ,   6.       ]]],\n",
      "\n",
      "\n",
      "       [[[  3.       ,   3.       ,   3.       ],\n",
      "         [  3.       ,   3.       ,   3.       ],\n",
      "         [  3.       ,   3.       ,   3.       ],\n",
      "         ...,\n",
      "         [ 12.830742 ,  12.830742 ,  12.830742 ],\n",
      "         [  4.2597656,   4.2597656,   4.2597656],\n",
      "         [  3.       ,   3.       ,   3.       ]],\n",
      "\n",
      "        [[  3.       ,   3.       ,   3.       ],\n",
      "         [  3.       ,   3.       ,   3.       ],\n",
      "         [  3.       ,   3.       ,   3.       ],\n",
      "         ...,\n",
      "         [ 14.82127  ,  14.82127  ,  14.82127  ],\n",
      "         [  4.2597656,   4.2597656,   4.2597656],\n",
      "         [  3.       ,   3.       ,   3.       ]],\n",
      "\n",
      "        [[  5.20541  ,   5.20541  ,   5.20541  ],\n",
      "         [  6.359375 ,   6.359375 ,   6.359375 ],\n",
      "         [  6.359375 ,   6.359375 ,   6.359375 ],\n",
      "         ...,\n",
      "         [ 13.878906 ,  13.878906 ,  13.878906 ],\n",
      "         [  4.2597656,   4.2597656,   4.2597656],\n",
      "         [  3.       ,   3.       ,   3.       ]],\n",
      "\n",
      "        ...,\n",
      "\n",
      "        [[  3.       ,   3.       ,   3.       ],\n",
      "         [  3.       ,   3.       ,   3.       ],\n",
      "         [  4.788769 ,   4.788769 ,   4.788769 ],\n",
      "         ...,\n",
      "         [  5.5195312,   5.5195312,   5.5195312],\n",
      "         [  5.5195312,   5.5195312,   5.5195312],\n",
      "         [  4.3655663,   4.3655663,   4.3655663]],\n",
      "\n",
      "        [[  3.       ,   3.       ,   3.       ],\n",
      "         [  3.       ,   3.       ,   3.       ],\n",
      "         [  5.2021294,   5.2021294,   5.2021294],\n",
      "         ...,\n",
      "         [  3.       ,   3.       ,   3.       ],\n",
      "         [  3.       ,   3.       ,   3.       ],\n",
      "         [  3.       ,   3.       ,   3.       ]],\n",
      "\n",
      "        [[  3.       ,   3.       ,   3.       ],\n",
      "         [  3.       ,   3.       ,   3.       ],\n",
      "         [  4.3655663,   4.3655663,   4.3655663],\n",
      "         ...,\n",
      "         [  3.       ,   3.       ,   3.       ],\n",
      "         [  3.       ,   3.       ,   3.       ],\n",
      "         [  3.       ,   3.       ,   3.       ]]],\n",
      "\n",
      "\n",
      "       [[[  3.       ,   3.       ,   3.       ],\n",
      "         [  3.       ,   3.       ,   3.       ],\n",
      "         [  3.       ,   3.       ,   3.       ],\n",
      "         ...,\n",
      "         [  2.       ,   2.       ,   2.       ],\n",
      "         [  2.       ,   2.       ,   2.       ],\n",
      "         [  2.       ,   2.       ,   2.       ]],\n",
      "\n",
      "        [[  3.       ,   3.       ,   3.       ],\n",
      "         [  3.       ,   3.       ,   3.       ],\n",
      "         [  3.       ,   3.       ,   3.       ],\n",
      "         ...,\n",
      "         [  2.       ,   2.       ,   2.       ],\n",
      "         [  2.       ,   2.       ,   2.       ],\n",
      "         [  2.       ,   2.       ,   2.       ]],\n",
      "\n",
      "        [[  3.       ,   3.       ,   3.       ],\n",
      "         [  3.       ,   3.       ,   3.       ],\n",
      "         [  3.       ,   3.       ,   3.       ],\n",
      "         ...,\n",
      "         [  2.       ,   2.       ,   2.       ],\n",
      "         [  2.       ,   2.       ,   2.       ],\n",
      "         [  2.       ,   2.       ,   2.       ]],\n",
      "\n",
      "        ...,\n",
      "\n",
      "        [[ 15.       ,  15.       ,  15.       ],\n",
      "         [ 15.       ,  15.       ,  15.       ],\n",
      "         [ 15.       ,  15.       ,  15.       ],\n",
      "         ...,\n",
      "         [ 19.851856 ,  19.851856 ,  19.851856 ],\n",
      "         [ 39.407207 ,  39.407207 ,  39.407207 ],\n",
      "         [ 46.238503 ,  46.238503 ,  46.238503 ]],\n",
      "\n",
      "        [[ 15.       ,  15.       ,  15.       ],\n",
      "         [ 15.       ,  15.       ,  15.       ],\n",
      "         [ 15.       ,  15.       ,  15.       ],\n",
      "         ...,\n",
      "         [ 19.513008 ,  19.513008 ,  19.513008 ],\n",
      "         [ 35.8496   ,  35.8496   ,  35.8496   ],\n",
      "         [ 43.441082 ,  43.441082 ,  43.441082 ]],\n",
      "\n",
      "        [[ 15.       ,  15.       ,  15.       ],\n",
      "         [ 15.       ,  15.       ,  15.       ],\n",
      "         [ 15.       ,  15.       ,  15.       ],\n",
      "         ...,\n",
      "         [ 18.157982 ,  18.157982 ,  18.157982 ],\n",
      "         [ 32.451496 ,  32.451496 ,  32.451496 ],\n",
      "         [ 39.07693  ,  39.07693  ,  39.07693  ]]]], dtype=float32)>, <tf.Tensor: shape=(32,), dtype=int32, numpy=\n",
      "array([0, 1, 0, 2, 2, 0, 2, 1, 2, 1, 1, 0, 0, 0, 2, 1, 2, 0, 1, 2, 2, 0,\n",
      "       3, 0, 0, 1, 1, 1, 1, 1, 2, 1], dtype=int32)>)\n"
     ]
    }
   ],
   "source": [
    "#Ogni elemento del train_set è un tensore con shape (32, 256, 256, 3) cioè è un insieme di 32 immagini\n",
    "#di dimensione 256x256x3 dove i valori dei pixel sono di tipo float32.\n",
    "for i in train_set:\n",
    "    print(i)\n",
    "    break"
   ]
  },
  {
   "cell_type": "markdown",
   "metadata": {},
   "source": [
    "Per poter usare ResNet50 occorre preprocessare le immagini in input in modo che siano di dimensione 224x224x3 e che siano convertite da RGB a BGR, così che ognuno dei tre canali sia centrato in zero."
   ]
  },
  {
   "cell_type": "code",
   "execution_count": 5,
   "metadata": {},
   "outputs": [],
   "source": [
    "#Eseguiamo il resize.\n",
    "resize = tf.keras.Sequential(layers.experimental.preprocessing.Resizing(224, 224))\n",
    "\n",
    "def prepare(ds):\n",
    "    #Resize\n",
    "    ds = ds.map(lambda x, y: (resize(x),y))\n",
    "    return ds\n",
    "\n",
    "train_set = prepare(train_set)\n",
    "test_set = prepare(test_set)"
   ]
  },
  {
   "cell_type": "code",
   "execution_count": 6,
   "metadata": {},
   "outputs": [
    {
     "name": "stdout",
     "output_type": "stream",
     "text": [
      "(32, 224, 224, 3)\n",
      "(32,)\n"
     ]
    }
   ],
   "source": [
    "#Verifichiamo che sia avvenuto il resize.\n",
    "for image_batch, labels_batch in train_set:\n",
    "    print(image_batch.shape)\n",
    "    print(labels_batch.shape)\n",
    "    break"
   ]
  },
  {
   "cell_type": "code",
   "execution_count": 7,
   "metadata": {},
   "outputs": [],
   "source": [
    "#Eseguiamo la conversione da RGB a BGR mediante la funzione preprocess_input offerta dal modulo resnet50.\n",
    "\n",
    "#Train\n",
    "for image_batch, labels_batch in train_set:\n",
    "    for image in image_batch:\n",
    "        image = preprocess_input(image, data_format=None)\n",
    "        \n",
    "#Test\n",
    "for image_batch, labels_batch in test_set:\n",
    "    for image in image_batch:\n",
    "        image = preprocess_input(image, data_format=None)"
   ]
  },
  {
   "cell_type": "markdown",
   "metadata": {},
   "source": [
    "# TRANSFER LEARNING"
   ]
  },
  {
   "cell_type": "code",
   "execution_count": 8,
   "metadata": {},
   "outputs": [],
   "source": [
    "#Creiamo il modello base considerando la rete ResNet50 pre-addestrata su ImageNet.\n",
    "#Non consideriamo gli ultimi layer che sono finalizzati agli obiettivi di classificazione di Imagenet.\n",
    "base_model = tf.keras.applications.ResNet50(include_top=False, weights='imagenet')"
   ]
  },
  {
   "cell_type": "code",
   "execution_count": 9,
   "metadata": {},
   "outputs": [
    {
     "name": "stdout",
     "output_type": "stream",
     "text": [
      "(32, 7, 7, 2048)\n"
     ]
    }
   ],
   "source": [
    "#Il base_model si comporta quindi come un estrattore di featues,\n",
    "#In particolare estrae dalle immagini 224x224x3 in blocchi 7x7x2048 di features. \n",
    "image_batch, label_batch = next(iter(train_set))\n",
    "feature_batch = base_model(image_batch)\n",
    "print(feature_batch.shape)"
   ]
  },
  {
   "cell_type": "code",
   "execution_count": 10,
   "metadata": {},
   "outputs": [],
   "source": [
    "#Congeliamo il resto dei layer impedendone così l'aggiornamento durante l'addestramento.\n",
    "base_model.trainable = False"
   ]
  },
  {
   "cell_type": "code",
   "execution_count": 11,
   "metadata": {},
   "outputs": [],
   "source": [
    "#Definiamo il modello, è necessario aggiungere al modello preaddestrato dei nuovi layer, utilizziamo un layer di tipo\n",
    "#FLATTEN per favorire la connessione tra l'ultimo layer della rete preaddestrata e i nuovi layer. \n",
    "#Dopo di che aggiungiamo un layer di tipo DENSE per eseguire la classificazione tra le 4 classi che sono di\n",
    "#nostro interesse.\n",
    "model = Sequential()\n",
    "model.add(base_model)\n",
    "model.add(Flatten())\n",
    "model.add(Dense(4))"
   ]
  },
  {
   "cell_type": "code",
   "execution_count": 12,
   "metadata": {},
   "outputs": [],
   "source": [
    "#Compiliamo il modello.\n",
    "model.compile(optimizer='adam',\n",
    "              loss=tf.keras.losses.SparseCategoricalCrossentropy(from_logits=True),\n",
    "              metrics=['accuracy'])"
   ]
  },
  {
   "cell_type": "code",
   "execution_count": 13,
   "metadata": {},
   "outputs": [
    {
     "name": "stdout",
     "output_type": "stream",
     "text": [
      "Epoch 1/5\n",
      "530/530 [==============================] - 1972s 4s/step - loss: 3.5713 - accuracy: 0.8081\n",
      "Epoch 2/5\n",
      "530/530 [==============================] - 1945s 4s/step - loss: 1.8155 - accuracy: 0.9213\n",
      "Epoch 3/5\n",
      "530/530 [==============================] - 1913s 4s/step - loss: 1.0284 - accuracy: 0.9471\n",
      "Epoch 4/5\n",
      "530/530 [==============================] - 1903s 4s/step - loss: 0.9351 - accuracy: 0.9602\n",
      "Epoch 5/5\n",
      "530/530 [==============================] - 1913s 4s/step - loss: 0.6083 - accuracy: 0.9684\n"
     ]
    }
   ],
   "source": [
    "#Addestriamo il modello sul train set.\n",
    "history = model.fit(train_set, epochs=5)"
   ]
  },
  {
   "cell_type": "code",
   "execution_count": 14,
   "metadata": {},
   "outputs": [
    {
     "data": {
      "image/png": "[encoded data removed]",
      "text/plain": [
       "<Figure size 576x576 with 2 Axes>"
      ]
     },
     "metadata": {
      "needs_background": "light"
     },
     "output_type": "display_data"
    }
   ],
   "source": [
    "import matplotlib.pyplot as plt\n",
    "#Analizziamo l'andamento dell'addestramento.\n",
    "acc = history.history['accuracy']\n",
    "loss = history.history['loss']\n",
    "\n",
    "plt.figure(figsize=(8, 8))\n",
    "plt.subplot(2, 1, 1)\n",
    "plt.plot(acc, label='Training Accuracy')\n",
    "plt.legend(loc='lower right')\n",
    "plt.ylabel('Accuracy')\n",
    "plt.ylim([min(plt.ylim()),1])\n",
    "plt.title('Training Accuracy')\n",
    "\n",
    "plt.subplot(2, 1, 2)\n",
    "plt.plot(loss, label='Training Loss')\n",
    "plt.legend(loc='upper right')\n",
    "plt.ylabel('Cross Entropy')\n",
    "plt.ylim([0,1.0])\n",
    "plt.title('Training Loss')\n",
    "plt.xlabel('epoch')\n",
    "plt.show()"
   ]
  },
  {
   "cell_type": "code",
   "execution_count": 15,
   "metadata": {},
   "outputs": [
    {
     "name": "stdout",
     "output_type": "stream",
     "text": [
      "133/133 [==============================] - 478s 4s/step - loss: 3.7126 - accuracy: 0.9041\n",
      "Test accuracy : 0.9040869474411011\n"
     ]
    }
   ],
   "source": [
    "#Valutiamo le prestazioni del modello sul test set.\n",
    "loss_test, accuracy_test = model.evaluate(test_set)\n",
    "print('Test accuracy :', accuracy_test)"
   ]
  },
  {
   "cell_type": "markdown",
   "metadata": {},
   "source": [
    "# FINE TUNING"
   ]
  },
  {
   "cell_type": "markdown",
   "metadata": {},
   "source": [
    "Un modo per incrementare le performance è eseguire fine-tuning, dove nel processo di training si 'aggiustano' i pesi degli ultimi layers così da specializzare la rete ancor di più al nostro dataset."
   ]
  },
  {
   "cell_type": "code",
   "execution_count": 16,
   "metadata": {},
   "outputs": [
    {
     "data": {
      "text/plain": [
       "175"
      ]
     },
     "execution_count": 16,
     "metadata": {},
     "output_type": "execute_result"
    }
   ],
   "source": [
    "#'Scongeliamo' il base_model in modo da non addestrare solo i layer più in basso.\n",
    "base_model.trainable = True\n",
    "\n",
    "num_layers = len(base_model.layers)\n",
    "num_layers"
   ]
  },
  {
   "cell_type": "code",
   "execution_count": 17,
   "metadata": {},
   "outputs": [],
   "source": [
    "#Scegliamo di addestrare il modello solo a partire dal centesimo layer in su.\n",
    "#quindi congeliamo tutti i layer precedenti.\n",
    "finetune = 100\n",
    "for layer in base_model.layers[:finetune]:\n",
    "    layer.trainable =  False"
   ]
  },
  {
   "cell_type": "code",
   "execution_count": 18,
   "metadata": {},
   "outputs": [
    {
     "name": "stdout",
     "output_type": "stream",
     "text": [
      "Model: \"sequential\"\n",
      "_________________________________________________________________\n",
      "Layer (type)                 Output Shape              Param #   \n",
      "=================================================================\n",
      "module_wrapper (ModuleWrappe (None, 7, 7, 2048)        23587712  \n",
      "_________________________________________________________________\n",
      "flatten (Flatten)            (None, 100352)            0         \n",
      "_________________________________________________________________\n",
      "dense (Dense)                (None, 4)                 401412    \n",
      "=================================================================\n",
      "Total params: 23,989,124\n",
      "Trainable params: 19,854,340\n",
      "Non-trainable params: 4,134,784\n",
      "_________________________________________________________________\n"
     ]
    }
   ],
   "source": [
    "#Ricompiliamo il modello.\n",
    "model.compile(loss=tf.keras.losses.SparseCategoricalCrossentropy(from_logits=True),\n",
    "              optimizer = 'adam',\n",
    "              metrics=['accuracy'])\n",
    "\n",
    "model.summary()"
   ]
  },
  {
   "cell_type": "code",
   "execution_count": 19,
   "metadata": {},
   "outputs": [
    {
     "name": "stdout",
     "output_type": "stream",
     "text": [
      "Epoch 5/10\n",
      "530/530 [==============================] - 3519s 7s/step - loss: 10.7409 - accuracy: 0.8188\n",
      "Epoch 6/10\n",
      "530/530 [==============================] - 3521s 7s/step - loss: 2.2357 - accuracy: 0.9048\n",
      "Epoch 7/10\n",
      "530/530 [==============================] - 3513s 7s/step - loss: 1.8514 - accuracy: 0.9227\n",
      "Epoch 8/10\n",
      "530/530 [==============================] - 3518s 7s/step - loss: 2.9498 - accuracy: 0.9040\n",
      "Epoch 9/10\n",
      "530/530 [==============================] - 4035s 8s/step - loss: 1.3572 - accuracy: 0.9337\n",
      "Epoch 10/10\n",
      "530/530 [==============================] - 3526s 7s/step - loss: 2.0301 - accuracy: 0.9215\n"
     ]
    }
   ],
   "source": [
    "#Continuiamo con l'addestramento.\n",
    "finetune_epochs = 5\n",
    "total_epochs =  5 + finetune_epochs\n",
    "\n",
    "history_fine = model.fit(train_set, epochs=total_epochs, initial_epoch=history.epoch[-1])\n",
    "acc += history_fine.history['accuracy']\n",
    "loss += history_fine.history['loss']"
   ]
  },
  {
   "cell_type": "code",
   "execution_count": 22,
   "metadata": {},
   "outputs": [
    {
     "data": {
      "image/png": "[encoded data removed]",
      "text/plain": [
       "<Figure size 576x576 with 2 Axes>"
      ]
     },
     "metadata": {
      "needs_background": "light"
     },
     "output_type": "display_data"
    }
   ],
   "source": [
    "#Analizziamo l'andamento dell'addestramento.\n",
    "initial_epochs = 5\n",
    "plt.figure(figsize=(8, 8))\n",
    "plt.subplot(2, 1, 1)\n",
    "plt.plot(acc, label='Training Accuracy')\n",
    "plt.ylim([0.8, 1])\n",
    "plt.plot([initial_epochs-1,initial_epochs-1],\n",
    "          plt.ylim(), label='Start Fine Tuning')\n",
    "plt.legend(loc='lower right')\n",
    "plt.title('Training Accuracy')\n",
    "\n",
    "plt.subplot(2, 1, 2)\n",
    "plt.plot(loss, label='Training Loss')\n",
    "\n",
    "plt.ylim([0, 1.0])\n",
    "plt.plot([initial_epochs-1,initial_epochs-1],\n",
    "         plt.ylim(), label='Start Fine Tuning')\n",
    "plt.legend(loc='upper right')\n",
    "plt.title('Training Loss')\n",
    "plt.xlabel('epoch')\n",
    "plt.show()\n"
   ]
  },
  {
   "cell_type": "code",
   "execution_count": 23,
   "metadata": {},
   "outputs": [
    {
     "name": "stdout",
     "output_type": "stream",
     "text": [
      "133/133 [==============================] - 405s 3s/step - loss: 0.6944 - accuracy: 0.9105\n",
      "Test accuracy : 0.91046541929245\n"
     ]
    }
   ],
   "source": [
    "#Valutazione del modello sul test set.\n",
    "loss_test, accuracy_test = model.evaluate(test_set)\n",
    "print('Test accuracy :', accuracy_test)"
   ]
  }
 ],
 "metadata": {
  "kernelspec": {
   "display_name": "Python 3",
   "language": "python",
   "name": "python3"
  },
  "language_info": {
   "codemirror_mode": {
    "name": "ipython",
    "version": 3
   },
   "file_extension": ".py",
   "mimetype": "text/x-python",
   "name": "python",
   "nbconvert_exporter": "python",
   "pygments_lexer": "ipython3",
   "version": "3.8.3"
  }
 },
 "nbformat": 4,
 "nbformat_minor": 4
}
