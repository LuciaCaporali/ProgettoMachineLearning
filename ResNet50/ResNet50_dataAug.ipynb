{
 "cells": [
  {
   "cell_type": "code",
   "execution_count": 1,
   "metadata": {},
   "outputs": [],
   "source": [
    "import tensorflow as tf\n",
    "from tensorflow import keras\n",
    "from tensorflow.keras import layers\n",
    "from tensorflow.keras.applications.resnet50 import ResNet50\n",
    "from tensorflow.keras.applications.resnet50 import preprocess_input\n",
    "from keras.models import Sequential\n",
    "from keras.layers import Dense\n",
    "from keras.layers import Flatten\n",
    "import matplotlib.pyplot as plt"
   ]
  },
  {
   "cell_type": "markdown",
   "metadata": {},
   "source": [
    "# RESNET"
   ]
  },
  {
   "cell_type": "code",
   "execution_count": 2,
   "metadata": {},
   "outputs": [
    {
     "name": "stdout",
     "output_type": "stream",
     "text": [
      "Found 34987 files belonging to 4 classes.\n",
      "Found 4233 files belonging to 4 classes.\n"
     ]
    }
   ],
   "source": [
    "#Creiamo un tf.data.Dataset a partire dalle immagini nella directory su disco per il training set e il test set.\n",
    "train_set = tf.keras.preprocessing.image_dataset_from_directory(\n",
    "    'train',\n",
    "    labels='inferred',\n",
    "    label_mode='int'\n",
    ")\n",
    "\n",
    "test_set = tf.keras.preprocessing.image_dataset_from_directory(\n",
    "    'test',\n",
    "    labels='inferred',\n",
    "    label_mode='int'\n",
    ")"
   ]
  },
  {
   "cell_type": "code",
   "execution_count": 3,
   "metadata": {},
   "outputs": [
    {
     "name": "stdout",
     "output_type": "stream",
     "text": [
      "(32, 256, 256, 3)\n",
      "(32,)\n"
     ]
    }
   ],
   "source": [
    "#image_batch è un tensore della forma (32, 256, 256, 3).\n",
    "#Questo è un batch di 32 immagini di forma 256x256x3. \n",
    "#Il label_batch è un tensore della forma (32,4) cioè in ogni batch ci sono 32 immagini e le etichette sono 4.\n",
    "for image_batch, labels_batch in train_set:\n",
    "    print(image_batch.shape)\n",
    "    print(labels_batch.shape)\n",
    "    break"
   ]
  },
  {
   "cell_type": "markdown",
   "metadata": {},
   "source": [
    "Per poter usare ResNet50 occorre preprocessare le immagini in input in modo che siano di dimensione 224x224x3 e che siano convertite da RGB a BGR, così che ognuno dei tre canali sia centrato in zero."
   ]
  },
  {
   "cell_type": "code",
   "execution_count": 4,
   "metadata": {},
   "outputs": [],
   "source": [
    "#Eseguiamo il resize.\n",
    "resize = tf.keras.Sequential(layers.experimental.preprocessing.Resizing(224, 224))\n",
    "\n",
    "def prepare(ds):\n",
    "    #Resize\n",
    "    ds = ds.map(lambda x, y: (resize(x),y))\n",
    "    return ds\n",
    "\n",
    "train_set = prepare(train_set)\n",
    "test_set = prepare(test_set)"
   ]
  },
  {
   "cell_type": "code",
   "execution_count": 5,
   "metadata": {},
   "outputs": [
    {
     "name": "stdout",
     "output_type": "stream",
     "text": [
      "(32, 224, 224, 3)\n",
      "(32,)\n"
     ]
    }
   ],
   "source": [
    "#Verifichiamo che sia avvenuto il resize.\n",
    "for image_batch, labels_batch in train_set:\n",
    "    print(image_batch.shape)\n",
    "    print(labels_batch.shape)\n",
    "    break"
   ]
  },
  {
   "cell_type": "code",
   "execution_count": 6,
   "metadata": {},
   "outputs": [],
   "source": [
    "#Eseguiamo la conversione da RGB a BGR mediante la funzione preprocess_input offerta dal modulo resnet50.\n",
    "\n",
    "#Train\n",
    "for image_batch, labels_batch in train_set:\n",
    "    for image in image_batch:\n",
    "        image = preprocess_input(image, data_format=None)\n",
    "        \n",
    "#Test\n",
    "for image_batch, labels_batch in test_set:\n",
    "    for image in image_batch:\n",
    "        image = preprocess_input(image, data_format=None)"
   ]
  },
  {
   "cell_type": "markdown",
   "metadata": {},
   "source": [
    "# TRANSFER LEARNING"
   ]
  },
  {
   "cell_type": "code",
   "execution_count": 7,
   "metadata": {},
   "outputs": [
    {
     "name": "stdout",
     "output_type": "stream",
     "text": [
      "Downloading data from https://storage.googleapis.com/tensorflow/keras-applications/resnet/resnet50_weights_tf_dim_ordering_tf_kernels_notop.h5\n",
      "94773248/94765736 [==============================] - 14s 0us/step\n"
     ]
    }
   ],
   "source": [
    "#Creiamo il modello base considerando la rete ResNet50 pre-addestrata su ImageNet.\n",
    "#Non consideriamo gli ultimi layer che sono finalizzati agli obiettivi di classificazione di Imagenet.\n",
    "base_model = tf.keras.applications.ResNet50(include_top=False, weights='imagenet')"
   ]
  },
  {
   "cell_type": "code",
   "execution_count": 8,
   "metadata": {},
   "outputs": [
    {
     "name": "stdout",
     "output_type": "stream",
     "text": [
      "(32, 7, 7, 2048)\n"
     ]
    }
   ],
   "source": [
    "#Il base_model si comporta quindi come un estrattore di featues,\n",
    "#In particolare estrae dalle immagini 224x224x3 in blocchi 7x7x2048 di features. \n",
    "image_batch, label_batch = next(iter(train_set))\n",
    "feature_batch = base_model(image_batch)\n",
    "print(feature_batch.shape)"
   ]
  },
  {
   "cell_type": "code",
   "execution_count": 9,
   "metadata": {},
   "outputs": [],
   "source": [
    "#Congeliamo il resto dei layer impedendone così l'aggiornamento durante l'addestramento.\n",
    "base_model.trainable = False"
   ]
  },
  {
   "cell_type": "code",
   "execution_count": 10,
   "metadata": {},
   "outputs": [],
   "source": [
    "#Definiamo il modello, è necessario aggiungere al modello preaddestrato dei nuovi layer, utilizziamo un layer di tipo\n",
    "#FLATTEN per favorire la connessione tra l'ultimo layer della rete preaddestrata e i nuovi layer. \n",
    "#Dopo di che aggiungiamo un layer di tipo DENSE per eseguire la classificazione tra le 4 classi che sono di\n",
    "#nostro interesse.\n",
    "model = Sequential()\n",
    "model.add(base_model)\n",
    "model.add(Flatten())\n",
    "model.add(Dense(4))"
   ]
  },
  {
   "cell_type": "code",
   "execution_count": 11,
   "metadata": {},
   "outputs": [],
   "source": [
    "#Compiliamo il modello.\n",
    "model.compile(optimizer='adam',\n",
    "              loss=tf.keras.losses.SparseCategoricalCrossentropy(from_logits=True),\n",
    "              metrics=['accuracy'])"
   ]
  },
  {
   "cell_type": "code",
   "execution_count": 12,
   "metadata": {},
   "outputs": [
    {
     "name": "stdout",
     "output_type": "stream",
     "text": [
      "Epoch 1/5\n",
      "1094/1094 [==============================] - 4734s 4s/step - loss: 3.9883 - accuracy: 0.7943\n",
      "Epoch 2/5\n",
      "1094/1094 [==============================] - 4660s 4s/step - loss: 2.2543 - accuracy: 0.9127\n",
      "Epoch 3/5\n",
      "1094/1094 [==============================] - 4957s 5s/step - loss: 1.5231 - accuracy: 0.9382\n",
      "Epoch 4/5\n",
      "1094/1094 [==============================] - 5081s 5s/step - loss: 1.2276 - accuracy: 0.9510\n",
      "Epoch 5/5\n",
      "1094/1094 [==============================] - 4622s 4s/step - loss: 0.9723 - accuracy: 0.9625\n"
     ]
    }
   ],
   "source": [
    "#Addestriamo il modello sul train set.\n",
    "history = model.fit(train_set, epochs=5)"
   ]
  },
  {
   "cell_type": "code",
   "execution_count": 13,
   "metadata": {},
   "outputs": [
    {
     "data": {
      "image/png": "[encoded data removed]",
      "text/plain": [
       "<Figure size 576x576 with 2 Axes>"
      ]
     },
     "metadata": {
      "needs_background": "light"
     },
     "output_type": "display_data"
    }
   ],
   "source": [
    "import matplotlib.pyplot as plt\n",
    "#Analizziamo l'andamento dell'addestramento.\n",
    "acc = history.history['accuracy']\n",
    "loss = history.history['loss']\n",
    "\n",
    "plt.figure(figsize=(8, 8))\n",
    "plt.subplot(2, 1, 1)\n",
    "plt.plot(acc, label='Training Accuracy')\n",
    "plt.legend(loc='lower right')\n",
    "plt.ylabel('Accuracy')\n",
    "plt.ylim([min(plt.ylim()),1])\n",
    "plt.title('Training Accuracy')\n",
    "\n",
    "plt.subplot(2, 1, 2)\n",
    "plt.plot(loss, label='Training Loss')\n",
    "plt.legend(loc='upper right')\n",
    "plt.ylabel('Cross Entropy')\n",
    "plt.ylim([0,1.0])\n",
    "plt.title('Training Loss')\n",
    "plt.xlabel('epoch')\n",
    "plt.show()"
   ]
  },
  {
   "cell_type": "code",
   "execution_count": 14,
   "metadata": {},
   "outputs": [
    {
     "name": "stdout",
     "output_type": "stream",
     "text": [
      "133/133 [==============================] - 575s 4s/step - loss: 5.9436 - accuracy: 0.8996\n",
      "Test accuracy : 0.8995984196662903\n"
     ]
    }
   ],
   "source": [
    "#Valutiamo le prestazioni del modello sul test set.\n",
    "loss_test, accuracy_test = model.evaluate(test_set)\n",
    "print('Test accuracy :', accuracy_test)"
   ]
  },
  {
   "cell_type": "markdown",
   "metadata": {},
   "source": [
    "# FINE TUNING"
   ]
  },
  {
   "cell_type": "markdown",
   "metadata": {},
   "source": [
    "Un modo per incrementare le performance è eseguire fine-tuning, dove nel processo di training si 'aggiustano' i pesi degli ultimi layers così da specializzare la rete ancor di più al nostro dataset."
   ]
  },
  {
   "cell_type": "code",
   "execution_count": 15,
   "metadata": {},
   "outputs": [
    {
     "data": {
      "text/plain": [
       "175"
      ]
     },
     "execution_count": 15,
     "metadata": {},
     "output_type": "execute_result"
    }
   ],
   "source": [
    "#'Scongeliamo' il base_model in modo da non addestrare solo i layer più in basso.\n",
    "base_model.trainable = True\n",
    "\n",
    "num_layers = len(base_model.layers)\n",
    "num_layers"
   ]
  },
  {
   "cell_type": "code",
   "execution_count": 16,
   "metadata": {},
   "outputs": [],
   "source": [
    "#Scegliamo di addestrare il modello solo a partire dal centesimo layer in su.\n",
    "#quindi congeliamo tutti i layer precedenti.\n",
    "finetune = 100\n",
    "for layer in base_model.layers[:finetune]:\n",
    "    layer.trainable =  False"
   ]
  },
  {
   "cell_type": "code",
   "execution_count": 17,
   "metadata": {},
   "outputs": [
    {
     "name": "stdout",
     "output_type": "stream",
     "text": [
      "Model: \"sequential\"\n",
      "_________________________________________________________________\n",
      "Layer (type)                 Output Shape              Param #   \n",
      "=================================================================\n",
      "module_wrapper (ModuleWrappe (None, 7, 7, 2048)        23587712  \n",
      "_________________________________________________________________\n",
      "flatten (Flatten)            (None, 100352)            0         \n",
      "_________________________________________________________________\n",
      "dense (Dense)                (None, 4)                 401412    \n",
      "=================================================================\n",
      "Total params: 23,989,124\n",
      "Trainable params: 19,854,340\n",
      "Non-trainable params: 4,134,784\n",
      "_________________________________________________________________\n"
     ]
    }
   ],
   "source": [
    "#Ricompiliamo il modello.\n",
    "model.compile(loss=tf.keras.losses.SparseCategoricalCrossentropy(from_logits=True),\n",
    "              optimizer = 'adam',\n",
    "              metrics=['accuracy'])\n",
    "\n",
    "model.summary()"
   ]
  },
  {
   "cell_type": "code",
   "execution_count": 18,
   "metadata": {
    "scrolled": true
   },
   "outputs": [
    {
     "name": "stdout",
     "output_type": "stream",
     "text": [
      "Epoch 5/10\n",
      "1094/1094 [==============================] - 10767s 10s/step - loss: 5.6606 - accuracy: 0.8017\n",
      "Epoch 6/10\n",
      "1094/1094 [==============================] - 12013s 11s/step - loss: 0.8583 - accuracy: 0.8918\n",
      "Epoch 7/10\n",
      "1094/1094 [==============================] - 12232s 11s/step - loss: 2.1274 - accuracy: 0.9017\n",
      "Epoch 8/10\n",
      "1094/1094 [==============================] - 12971s 12s/step - loss: 1.3576 - accuracy: 0.9215\n",
      "Epoch 9/10\n",
      "1094/1094 [==============================] - 10379s 9s/step - loss: 0.5645 - accuracy: 0.9344\n",
      "Epoch 10/10\n",
      "1094/1094 [==============================] - 12353s 11s/step - loss: 0.9428 - accuracy: 0.9370\n"
     ]
    }
   ],
   "source": [
    "#Continuiamo con l'addestramento.\n",
    "finetune_epochs = 5\n",
    "total_epochs =  5 + finetune_epochs\n",
    "\n",
    "history_fine = model.fit(train_set, epochs=total_epochs, initial_epoch=history.epoch[-1])\n",
    "acc += history_fine.history['accuracy']\n",
    "loss += history_fine.history['loss']"
   ]
  },
  {
   "cell_type": "code",
   "execution_count": 20,
   "metadata": {},
   "outputs": [
    {
     "data": {
      "image/png": "[encoded data removed]",
      "text/plain": [
       "<Figure size 576x576 with 2 Axes>"
      ]
     },
     "metadata": {
      "needs_background": "light"
     },
     "output_type": "display_data"
    }
   ],
   "source": [
    "#Analizziamo l'andamento dell'addestramento.\n",
    "initial_epochs = 5\n",
    "plt.figure(figsize=(8, 8))\n",
    "plt.subplot(2, 1, 1)\n",
    "plt.plot(acc, label='Training Accuracy')\n",
    "plt.ylim([0.8, 1])\n",
    "plt.plot([initial_epochs-1,initial_epochs-1],\n",
    "          plt.ylim(), label='Start Fine Tuning')\n",
    "plt.legend(loc='lower right')\n",
    "plt.title('Training Accuracy')\n",
    "\n",
    "plt.subplot(2, 1, 2)\n",
    "plt.plot(loss, label='Training Loss')\n",
    "\n",
    "plt.ylim([0, 1.0])\n",
    "plt.plot([initial_epochs-1,initial_epochs-1],\n",
    "         plt.ylim(), label='Start Fine Tuning')\n",
    "plt.legend(loc='upper right')\n",
    "plt.title('Training Loss')\n",
    "plt.xlabel('epoch')\n",
    "plt.show()\n"
   ]
  },
  {
   "cell_type": "code",
   "execution_count": 21,
   "metadata": {},
   "outputs": [
    {
     "name": "stdout",
     "output_type": "stream",
     "text": [
      "133/133 [==============================] - 493s 4s/step - loss: 0.2119 - accuracy: 0.9289\n",
      "Test accuracy : 0.9288920164108276\n"
     ]
    }
   ],
   "source": [
    "#Valutazione del modello sul test set.\n",
    "loss_test, accuracy_test = model.evaluate(test_set)\n",
    "print('Test accuracy :', accuracy_test)"
   ]
  },
  {
   "cell_type": "code",
   "execution_count": null,
   "metadata": {},
   "outputs": [],
   "source": []
  }
 ],
 "metadata": {
  "kernelspec": {
   "display_name": "Python 3",
   "language": "python",
   "name": "python3"
  },
  "language_info": {
   "codemirror_mode": {
    "name": "ipython",
    "version": 3
   },
   "file_extension": ".py",
   "mimetype": "text/x-python",
   "name": "python",
   "nbconvert_exporter": "python",
   "pygments_lexer": "ipython3",
   "version": "3.8.3"
  }
 },
 "nbformat": 4,
 "nbformat_minor": 4
}
