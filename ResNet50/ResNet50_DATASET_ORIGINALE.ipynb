{
 "cells": [
  {
   "cell_type": "code",
   "execution_count": 14,
   "metadata": {},
   "outputs": [],
   "source": [
    "import tensorflow as tf\n",
    "from tensorflow import keras\n",
    "from tensorflow.keras import layers\n",
    "from tensorflow.keras.applications.resnet50 import ResNet50\n",
    "from tensorflow.keras.applications.resnet50 import preprocess_input\n",
    "from keras.models import Sequential\n",
    "from keras.layers import Dense\n",
    "from keras.layers import Flatten\n",
    "import matplotlib.pyplot as plt"
   ]
  },
  {
   "cell_type": "markdown",
   "metadata": {},
   "source": [
    "# RESNET"
   ]
  },
  {
   "cell_type": "code",
   "execution_count": 2,
   "metadata": {},
   "outputs": [
    {
     "name": "stdout",
     "output_type": "stream",
     "text": [
      "Found 16932 files belonging to 4 classes.\n",
      "Found 4233 files belonging to 4 classes.\n"
     ]
    }
   ],
   "source": [
    "#Creiamo un tf.data.Dataset a partire dalle immagini nella directory su disco per il training set e il test set.\n",
    "train_set = tf.keras.preprocessing.image_dataset_from_directory(\n",
    "    'train',\n",
    "    labels='inferred',\n",
    "    label_mode='int'\n",
    ")\n",
    "\n",
    "test_set = tf.keras.preprocessing.image_dataset_from_directory(\n",
    "    'test',\n",
    "    labels='inferred',\n",
    "    label_mode='int'\n",
    ")"
   ]
  },
  {
   "cell_type": "code",
   "execution_count": 3,
   "metadata": {},
   "outputs": [
    {
     "name": "stdout",
     "output_type": "stream",
     "text": [
      "(32, 256, 256, 3)\n",
      "(32,)\n"
     ]
    }
   ],
   "source": [
    "#image_batch è un tensore della forma (32, 256, 256, 3).\n",
    "#Questo è un batch di 32 immagini di forma 256x256x3. \n",
    "#Il label_batch è un tensore della forma (32,4) cioè in ogni batch ci sono 32 immagini e le etichette sono 4.\n",
    "for image_batch, labels_batch in train_set:\n",
    "    print(image_batch.shape)\n",
    "    print(labels_batch.shape)\n",
    "    break"
   ]
  },
  {
   "cell_type": "code",
   "execution_count": 7,
   "metadata": {},
   "outputs": [
    {
     "name": "stdout",
     "output_type": "stream",
     "text": [
      "(<tf.Tensor: shape=(32, 256, 256, 3), dtype=float32, numpy=\n",
      "array([[[[ 68.96682  ,  68.96682  ,  68.96682  ],\n",
      "         [ 15.593117 ,  15.593117 ,  15.593117 ],\n",
      "         [  6.441185 ,   6.441185 ,   6.441185 ],\n",
      "         ...,\n",
      "         [  1.       ,   1.       ,   1.       ],\n",
      "         [  1.       ,   1.       ,   1.       ],\n",
      "         [  1.       ,   1.       ,   1.       ]],\n",
      "\n",
      "        [[ 10.789402 ,  10.789402 ,  10.789402 ],\n",
      "         [  8.6230545,   8.6230545,   8.6230545],\n",
      "         [  8.566074 ,   8.566074 ,   8.566074 ],\n",
      "         ...,\n",
      "         [  1.       ,   1.       ,   1.       ],\n",
      "         [  1.       ,   1.       ,   1.       ],\n",
      "         [  1.       ,   1.       ,   1.       ]],\n",
      "\n",
      "        [[  4.847103 ,   4.847103 ,   4.847103 ],\n",
      "         [  8.566074 ,   8.566074 ,   8.566074 ],\n",
      "         [  9.       ,   9.       ,   9.       ],\n",
      "         ...,\n",
      "         [  1.       ,   1.       ,   1.       ],\n",
      "         [  1.       ,   1.       ,   1.       ],\n",
      "         [  1.       ,   1.       ,   1.       ]],\n",
      "\n",
      "        ...,\n",
      "\n",
      "        [[ 52.665684 ,  52.665684 ,  52.665684 ],\n",
      "         [ 59.222694 ,  59.222694 ,  59.222694 ],\n",
      "         [ 60.006706 ,  60.006706 ,  60.006706 ],\n",
      "         ...,\n",
      "         [ 16.403744 ,  16.403744 ,  16.403744 ],\n",
      "         [ 18.93002  ,  18.93002  ,  18.93002  ],\n",
      "         [ 20.496094 ,  20.496094 ,  20.496094 ]],\n",
      "\n",
      "        [[ 53.538414 ,  53.538414 ,  53.538414 ],\n",
      "         [ 58.113304 ,  58.113304 ,  58.113304 ],\n",
      "         [ 52.751328 ,  52.751328 ,  52.751328 ],\n",
      "         ...,\n",
      "         [ 17.328125 ,  17.328125 ,  17.328125 ],\n",
      "         [ 19.432613 ,  19.432613 ,  19.432613 ],\n",
      "         [ 20.230793 ,  20.230793 ,  20.230793 ]],\n",
      "\n",
      "        [[ 54.727543 ,  54.727543 ,  54.727543 ],\n",
      "         [ 51.36979  ,  51.36979  ,  51.36979  ],\n",
      "         [ 46.59353  ,  46.59353  ,  46.59353  ],\n",
      "         ...,\n",
      "         [ 15.363392 ,  15.363392 ,  15.363392 ],\n",
      "         [ 17.664062 ,  17.664062 ,  17.664062 ],\n",
      "         [ 17.328884 ,  17.328884 ,  17.328884 ]]],\n",
      "\n",
      "\n",
      "       [[[  2.1609154,   2.1609154,   2.1609154],\n",
      "         [  2.769207 ,   2.769207 ,   2.769207 ],\n",
      "         [  2.0839844,   2.0839844,   2.0839844],\n",
      "         ...,\n",
      "         [  2.0839844,   2.0839844,   2.0839844],\n",
      "         [  2.769207 ,   2.769207 ,   2.769207 ],\n",
      "         [  2.1609154,   2.1609154,   2.1609154]],\n",
      "\n",
      "        [[  2.769207 ,   2.769207 ,   2.769207 ],\n",
      "         [  3.       ,   3.       ,   3.       ],\n",
      "         [  3.       ,   3.       ,   3.       ],\n",
      "         ...,\n",
      "         [  3.       ,   3.       ,   3.       ],\n",
      "         [  3.       ,   3.       ,   3.       ],\n",
      "         [  2.769207 ,   2.769207 ,   2.769207 ]],\n",
      "\n",
      "        [[  2.0839844,   2.0839844,   2.0839844],\n",
      "         [  3.       ,   3.       ,   3.       ],\n",
      "         [  3.       ,   3.       ,   3.       ],\n",
      "         ...,\n",
      "         [  3.       ,   3.       ,   3.       ],\n",
      "         [  3.       ,   3.       ,   3.       ],\n",
      "         [  2.0839844,   2.0839844,   2.0839844]],\n",
      "\n",
      "        ...,\n",
      "\n",
      "        [[  3.1679688,   3.1679688,   3.1679688],\n",
      "         [  5.       ,   5.       ,   5.       ],\n",
      "         [  5.       ,   5.       ,   5.       ],\n",
      "         ...,\n",
      "         [  3.       ,   3.       ,   3.       ],\n",
      "         [  3.       ,   3.       ,   3.       ],\n",
      "         [  2.0839844,   2.0839844,   2.0839844]],\n",
      "\n",
      "        [[  3.1051445,   3.1051445,   3.1051445],\n",
      "         [  4.251953 ,   4.251953 ,   4.251953 ],\n",
      "         [  4.251953 ,   4.251953 ,   4.251953 ],\n",
      "         ...,\n",
      "         [  3.       ,   3.       ,   3.       ],\n",
      "         [  3.       ,   3.       ,   3.       ],\n",
      "         [  2.769207 ,   2.769207 ,   2.769207 ]],\n",
      "\n",
      "        [[  3.0070534,   3.0070534,   3.0070534],\n",
      "         [  3.0839844,   3.0839844,   3.0839844],\n",
      "         [  3.0839844,   3.0839844,   3.0839844],\n",
      "         ...,\n",
      "         [  2.0839844,   2.0839844,   2.0839844],\n",
      "         [  2.769207 ,   2.769207 ,   2.769207 ],\n",
      "         [  2.1609154,   2.1609154,   2.1609154]]],\n",
      "\n",
      "\n",
      "       [[[136.41211  , 136.41211  , 136.41211  ],\n",
      "         [134.74023  , 134.74023  , 134.74023  ],\n",
      "         [130.39648  , 130.39648  , 130.39648  ],\n",
      "         ...,\n",
      "         [185.2576   , 185.2576   , 185.2576   ],\n",
      "         [187.10449  , 187.10449  , 187.10449  ],\n",
      "         [189.25195  , 189.25195  , 189.25195  ]],\n",
      "\n",
      "        [[130.13899  , 130.13899  , 130.13899  ],\n",
      "         [128.2998   , 128.2998   , 128.2998   ],\n",
      "         [124.35613  , 124.35613  , 124.35613  ],\n",
      "         ...,\n",
      "         [187.72623  , 187.72623  , 187.72623  ],\n",
      "         [192.31543  , 192.31543  , 192.31543  ],\n",
      "         [195.32259  , 195.32259  , 195.32259  ]],\n",
      "\n",
      "        [[125.97601  , 125.97601  , 125.97601  ],\n",
      "         [121.61099  , 121.61099  , 121.61099  ],\n",
      "         [118.541016 , 118.541016 , 118.541016 ],\n",
      "         ...,\n",
      "         [193.51282  , 193.51282  , 193.51282  ],\n",
      "         [197.5039   , 197.5039   , 197.5039   ],\n",
      "         [200.2385   , 200.2385   , 200.2385   ]],\n",
      "\n",
      "        ...,\n",
      "\n",
      "        [[146.91602  , 146.91602  , 146.91602  ],\n",
      "         [145.74805  , 145.74805  , 145.74805  ],\n",
      "         [145.24359  , 145.24359  , 145.24359  ],\n",
      "         ...,\n",
      "         [255.       , 255.       , 255.       ],\n",
      "         [255.       , 255.       , 255.       ],\n",
      "         [255.       , 255.       , 255.       ]],\n",
      "\n",
      "        [[147.66406  , 147.66406  , 147.66406  ],\n",
      "         [146.4961   , 146.4961   , 146.4961   ],\n",
      "         [145.85385  , 145.85385  , 145.85385  ],\n",
      "         ...,\n",
      "         [255.       , 255.       , 255.       ],\n",
      "         [255.       , 255.       , 255.       ],\n",
      "         [255.       , 255.       , 255.       ]],\n",
      "\n",
      "        [[148.90897  , 148.90897  , 148.90897  ],\n",
      "         [148.58008  , 148.58008  , 148.58008  ],\n",
      "         [147.83203  , 147.83203  , 147.83203  ],\n",
      "         ...,\n",
      "         [255.       , 255.       , 255.       ],\n",
      "         [255.       , 255.       , 255.       ],\n",
      "         [255.       , 255.       , 255.       ]]],\n",
      "\n",
      "\n",
      "       ...,\n",
      "\n",
      "\n",
      "       [[[  5.1059036,   5.1059036,   5.1059036],\n",
      "         [  5.2386055,   5.2386055,   5.2386055],\n",
      "         [  5.1757812,   5.1757812,   5.1757812],\n",
      "         ...,\n",
      "         [  4.5878906,   4.5878906,   4.5878906],\n",
      "         [  4.5878906,   4.5878906,   4.5878906],\n",
      "         [  3.671875 ,   3.671875 ,   3.671875 ]],\n",
      "\n",
      "        [[ 18.175781 ,  18.175781 ,  18.175781 ],\n",
      "         [ 19.81934  ,  19.81934  ,  19.81934  ],\n",
      "         [ 19.259766 ,  19.259766 ,  19.259766 ],\n",
      "         ...,\n",
      "         [ 11.503906 ,  11.503906 ,  11.503906 ],\n",
      "         [ 11.3154335,  11.3154335,  11.3154335],\n",
      "         [ 10.3359375,  10.3359375,  10.3359375]],\n",
      "\n",
      "        [[ 21.58789  ,  21.58789  ,  21.58789  ],\n",
      "         [ 23.631523 ,  23.631523 ,  23.631523 ],\n",
      "         [ 24.259766 ,  24.259766 ,  24.259766 ],\n",
      "         ...,\n",
      "         [ 13.       ,  13.       ,  13.       ],\n",
      "         [ 12.251953 ,  12.251953 ,  12.251953 ],\n",
      "         [ 11.083984 ,  11.083984 ,  11.083984 ]],\n",
      "\n",
      "        ...,\n",
      "\n",
      "        [[ 90.232315 ,  90.232315 ,  90.232315 ],\n",
      "         [118.10742  , 118.10742  , 118.10742  ],\n",
      "         [130.67969  , 130.67969  , 130.67969  ],\n",
      "         ...,\n",
      "         [ 16.       ,  16.       ,  16.       ],\n",
      "         [ 15.251953 ,  15.251953 ,  15.251953 ],\n",
      "         [ 14.083984 ,  14.083984 ,  14.083984 ]],\n",
      "\n",
      "        [[ 88.834305 ,  88.834305 ,  88.834305 ],\n",
      "         [117.21388  , 117.21388  , 117.21388  ],\n",
      "         [127.47918  , 127.47918  , 127.47918  ],\n",
      "         ...,\n",
      "         [ 16.       ,  16.       ,  16.       ],\n",
      "         [ 15.811527 ,  15.811527 ,  15.811527 ],\n",
      "         [ 14.146809 ,  14.146809 ,  14.146809 ]],\n",
      "\n",
      "        [[ 77.73688  ,  77.73688  ,  77.73688  ],\n",
      "         [100.2832   , 100.2832   , 100.2832   ],\n",
      "         [109.386826 , 109.386826 , 109.386826 ],\n",
      "         ...,\n",
      "         [ 14.167969 ,  14.167969 ,  14.167969 ],\n",
      "         [ 13.482746 ,  13.482746 ,  13.482746 ],\n",
      "         [ 12.2590065,  12.2590065,  12.2590065]]],\n",
      "\n",
      "\n",
      "       [[[  3.1609154,   3.1609154,   3.1609154],\n",
      "         [  3.769207 ,   3.769207 ,   3.769207 ],\n",
      "         [  3.0839844,   3.0839844,   3.0839844],\n",
      "         ...,\n",
      "         [146.3688   , 146.3688   , 146.3688   ],\n",
      "         [131.94238  , 131.94238  , 131.94238  ],\n",
      "         [112.18501  , 112.18501  , 112.18501  ]],\n",
      "\n",
      "        [[  4.       ,   4.       ,   4.       ],\n",
      "         [  4.       ,   4.       ,   4.       ],\n",
      "         [  4.       ,   4.       ,   4.       ],\n",
      "         ...,\n",
      "         [178.8538   , 178.8538   , 178.8538   ],\n",
      "         [164.99706  , 164.99706  , 164.99706  ],\n",
      "         [135.63477  , 135.63477  , 135.63477  ]],\n",
      "\n",
      "        [[  4.       ,   4.       ,   4.       ],\n",
      "         [  4.       ,   4.       ,   4.       ],\n",
      "         [  4.       ,   4.       ,   4.       ],\n",
      "         ...,\n",
      "         [187.16687  , 187.16687  , 187.16687  ],\n",
      "         [178.97362  , 178.97362  , 178.97362  ],\n",
      "         [152.79437  , 152.79437  , 152.79437  ]],\n",
      "\n",
      "        ...,\n",
      "\n",
      "        [[  6.3577538,   6.3577538,   6.3577538],\n",
      "         [ 22.937283 ,  22.937283 ,  22.937283 ],\n",
      "         [ 59.492516 ,  59.492516 ,  59.492516 ],\n",
      "         ...,\n",
      "         [  9.907097 ,   9.907097 ,   9.907097 ],\n",
      "         [  9.748047 ,   9.748047 ,   9.748047 ],\n",
      "         [  8.167969 ,   8.167969 ,   8.167969 ]],\n",
      "\n",
      "        [[  7.5455704,   7.5455704,   7.5455704],\n",
      "         [ 19.338932 ,  19.338932 ,  19.338932 ],\n",
      "         [ 41.548203 ,  41.548203 ,  41.548203 ],\n",
      "         ...,\n",
      "         [  9.391914 ,   9.391914 ,   9.391914 ],\n",
      "         [  8.811527 ,   8.811527 ,   8.811527 ],\n",
      "         [  8.1051445,   8.1051445,   8.1051445]],\n",
      "\n",
      "        [[  5.9308815,   5.9308815,   5.9308815],\n",
      "         [ 16.267578 ,  16.267578 ,  16.267578 ],\n",
      "         [ 29.079784 ,  29.079784 ,  29.079784 ],\n",
      "         ...,\n",
      "         [  8.568249 ,   8.568249 ,   8.568249 ],\n",
      "         [  7.580078 ,   7.580078 ,   7.580078 ],\n",
      "         [  7.1679688,   7.1679688,   7.1679688]]],\n",
      "\n",
      "\n",
      "       [[[ 27.251194 ,  27.251194 ,  27.251194 ],\n",
      "         [ 18.740234 ,  18.740234 ,  18.740234 ],\n",
      "         [ 13.740234 ,  13.740234 ,  13.740234 ],\n",
      "         ...,\n",
      "         [ 95.21289  ,  95.21289  ,  95.21289  ],\n",
      "         [110.86914  , 110.86914  , 110.86914  ],\n",
      "         [140.95465  , 140.95465  , 140.95465  ]],\n",
      "\n",
      "        [[ 26.181316 ,  26.181316 ,  26.181316 ],\n",
      "         [ 18.740234 ,  18.740234 ,  18.740234 ],\n",
      "         [ 13.634434 ,  13.634434 ,  13.634434 ],\n",
      "         ...,\n",
      "         [ 71.28125  ,  71.28125  ,  71.28125  ],\n",
      "         [ 86.560555 ,  86.560555 ,  86.560555 ],\n",
      "         [117.73568  , 117.73568  , 117.73568  ]],\n",
      "\n",
      "        [[ 25.496094 ,  25.496094 ,  25.496094 ],\n",
      "         [ 18.634434 ,  18.634434 ,  18.634434 ],\n",
      "         [ 12.900391 ,  12.900391 ,  12.900391 ],\n",
      "         ...,\n",
      "         [ 54.601562 ,  54.601562 ,  54.601562 ],\n",
      "         [ 68.76172  ,  68.76172  ,  68.76172  ],\n",
      "         [ 96.65083  ,  96.65083  ,  96.65083  ]],\n",
      "\n",
      "        ...,\n",
      "\n",
      "        [[ 22.271595 ,  22.271595 ,  22.271595 ],\n",
      "         [ 21.740234 ,  21.740234 ,  21.740234 ],\n",
      "         [ 21.740234 ,  21.740234 ,  21.740234 ],\n",
      "         ...,\n",
      "         [119.03766  , 119.03766  , 119.03766  ],\n",
      "         [129.84276  , 129.84276  , 129.84276  ],\n",
      "         [130.11925  , 130.11925  , 130.11925  ]],\n",
      "\n",
      "        [[ 26.908203 ,  26.908203 ,  26.908203 ],\n",
      "         [ 25.992188 ,  25.992188 ,  25.992188 ],\n",
      "         [ 25.992188 ,  25.992188 ,  25.992188 ],\n",
      "         ...,\n",
      "         [120.44922  , 120.44922  , 120.44922  ],\n",
      "         [130.48828  , 130.48828  , 130.48828  ],\n",
      "         [130.1468   , 130.1468   , 130.1468   ]],\n",
      "\n",
      "        [[ 32.496094 ,  32.496094 ,  32.496094 ],\n",
      "         [ 31.580078 ,  31.580078 ,  31.580078 ],\n",
      "         [ 31.580078 ,  31.580078 ,  31.580078 ],\n",
      "         ...,\n",
      "         [121.61719  , 121.61719  , 121.61719  ],\n",
      "         [131.65625  , 131.65625  , 131.65625  ],\n",
      "         [130.2449   , 130.2449   , 130.2449   ]]]], dtype=float32)>, <tf.Tensor: shape=(32,), dtype=int32, numpy=\n",
      "array([2, 2, 0, 2, 0, 2, 3, 2, 0, 0, 1, 1, 2, 1, 2, 1, 2, 3, 3, 1, 1, 1,\n",
      "       0, 2, 2, 2, 1, 2, 1, 2, 1, 2], dtype=int32)>)\n",
      "2\n"
     ]
    }
   ],
   "source": [
    "#Ogni elemento del train_set è un tensore con shape (32, 256, 256, 3) cioè è un insieme di 32 immagini\n",
    "#di dimensione 256x256x3 dove i valori dei pixel sono di tipo float32.\n",
    "for i in train_set:\n",
    "    print(i)\n",
    "    break"
   ]
  },
  {
   "cell_type": "markdown",
   "metadata": {},
   "source": [
    "Per poter usare ResNet50 occorre preprocessare le immagini in input in modo che siano di dimensione 224x224x3 e che siano convertite da RGB a BGR, così che ognuno dei tre canali sia centrato in zero."
   ]
  },
  {
   "cell_type": "code",
   "execution_count": 10,
   "metadata": {},
   "outputs": [],
   "source": [
    "#Eseguiamo il resize.\n",
    "resize = tf.keras.Sequential(layers.experimental.preprocessing.Resizing(224, 224))\n",
    "\n",
    "def prepare(ds):\n",
    "    #Resize\n",
    "    ds = ds.map(lambda x, y: (resize(x),y))\n",
    "    return ds\n",
    "\n",
    "train_set = prepare(train_set)\n",
    "test_set = prepare(test_set)"
   ]
  },
  {
   "cell_type": "code",
   "execution_count": 11,
   "metadata": {},
   "outputs": [
    {
     "name": "stdout",
     "output_type": "stream",
     "text": [
      "(32, 224, 224, 3)\n",
      "(32,)\n"
     ]
    }
   ],
   "source": [
    "#Verifichiamo che sia avvenuto il resize.\n",
    "for image_batch, labels_batch in train_set:\n",
    "    print(image_batch.shape)\n",
    "    print(labels_batch.shape)\n",
    "    break"
   ]
  },
  {
   "cell_type": "code",
   "execution_count": 20,
   "metadata": {},
   "outputs": [],
   "source": [
    "#Eseguiamo la conversione da RGB a BGR mediante la funzione preprocess_input offerta dal modulo resnet50.\n",
    "\n",
    "#Train\n",
    "for image_batch, labels_batch in train_set:\n",
    "    for image in image_batch:\n",
    "        image = preprocess_input(image, data_format=None)\n",
    "        \n",
    "#Test\n",
    "for image_batch, labels_batch in test_set:\n",
    "    for image in image_batch:\n",
    "        image = preprocess_input(image, data_format=None)"
   ]
  },
  {
   "cell_type": "markdown",
   "metadata": {},
   "source": [
    "# TRANSFER LEARNING"
   ]
  },
  {
   "cell_type": "code",
   "execution_count": 21,
   "metadata": {},
   "outputs": [
    {
     "name": "stdout",
     "output_type": "stream",
     "text": [
      "Downloading data from https://storage.googleapis.com/tensorflow/keras-applications/resnet/resnet50_weights_tf_dim_ordering_tf_kernels_notop.h5\n",
      "94773248/94765736 [==============================] - 155s 2us/step\n"
     ]
    }
   ],
   "source": [
    "#Creiamo il modello base considerando la rete ResNet50 pre-addestrata su ImageNet.\n",
    "#Non consideriamo gli ultimi layer che sono finalizzati agli obiettivi di classificazione di Imagenet.\n",
    "base_model = tf.keras.applications.ResNet50(include_top=False, weights='imagenet')"
   ]
  },
  {
   "cell_type": "code",
   "execution_count": 22,
   "metadata": {},
   "outputs": [
    {
     "name": "stdout",
     "output_type": "stream",
     "text": [
      "(32, 7, 7, 2048)\n"
     ]
    }
   ],
   "source": [
    "#Il base_model si comporta quindi come un estrattore di featues,\n",
    "#In particolare estrae dalle immagini 224x224x3 in blocchi 7x7x2048 di features. \n",
    "image_batch, label_batch = next(iter(train_set))\n",
    "feature_batch = base_model(image_batch)\n",
    "print(feature_batch.shape)"
   ]
  },
  {
   "cell_type": "code",
   "execution_count": 23,
   "metadata": {},
   "outputs": [],
   "source": [
    "#Congeliamo il resto dei layer impedendone così l'aggiornamento durante l'addestramento.\n",
    "base_model.trainable = False"
   ]
  },
  {
   "cell_type": "code",
   "execution_count": 32,
   "metadata": {},
   "outputs": [],
   "source": [
    "#Definiamo il modello, è necessario aggiungere al modello preaddestrato dei nuovi layer, utilizziamo un layer di tipo\n",
    "#FLATTEN per favorire la connessione tra l'ultimo layer della rete preaddestrata e i nuovi layer. \n",
    "#Dopo di che aggiungiamo un layer di tipo DENSE per eseguire la classificazione tra le 4 classi che sono di\n",
    "#nostro interesse.\n",
    "model = Sequential()\n",
    "model.add(base_model)\n",
    "model.add(Flatten())\n",
    "model.add(Dense(4))"
   ]
  },
  {
   "cell_type": "code",
   "execution_count": 33,
   "metadata": {},
   "outputs": [],
   "source": [
    "#Compiliamo il modello.\n",
    "model.compile(optimizer='adam',\n",
    "              loss=tf.keras.losses.SparseCategoricalCrossentropy(from_logits=True),\n",
    "              metrics=['accuracy'])"
   ]
  },
  {
   "cell_type": "code",
   "execution_count": 34,
   "metadata": {},
   "outputs": [
    {
     "name": "stdout",
     "output_type": "stream",
     "text": [
      "Epoch 1/5\n",
      "530/530 [==============================] - 2007s 4s/step - loss: 4.7800 - accuracy: 0.7860\n",
      "Epoch 2/5\n",
      "530/530 [==============================] - 2004s 4s/step - loss: 1.4218 - accuracy: 0.9247\n",
      "Epoch 3/5\n",
      "530/530 [==============================] - 1995s 4s/step - loss: 1.1089 - accuracy: 0.9404\n",
      "Epoch 4/5\n",
      "530/530 [==============================] - 1784s 3s/step - loss: 0.8590 - accuracy: 0.9564\n",
      "Epoch 5/5\n",
      "530/530 [==============================] - 1670s 3s/step - loss: 0.5351 - accuracy: 0.9684\n"
     ]
    }
   ],
   "source": [
    "#Addestriamo il modello sul train set.\n",
    "history = model.fit(train_set, epochs=5)"
   ]
  },
  {
   "cell_type": "code",
   "execution_count": 35,
   "metadata": {},
   "outputs": [
    {
     "data": {
      "image/png": "[encoded data removed]",
      "text/plain": [
       "<Figure size 576x576 with 2 Axes>"
      ]
     },
     "metadata": {
      "needs_background": "light"
     },
     "output_type": "display_data"
    }
   ],
   "source": [
    "import matplotlib.pyplot as plt\n",
    "#Analizziamo l'andamento dell'addestramento.\n",
    "acc = history.history['accuracy']\n",
    "loss = history.history['loss']\n",
    "\n",
    "plt.figure(figsize=(8, 8))\n",
    "plt.subplot(2, 1, 1)\n",
    "plt.plot(acc, label='Training Accuracy')\n",
    "plt.legend(loc='lower right')\n",
    "plt.ylabel('Accuracy')\n",
    "plt.ylim([min(plt.ylim()),1])\n",
    "plt.title('Training Accuracy')\n",
    "\n",
    "plt.subplot(2, 1, 2)\n",
    "plt.plot(loss, label='Training Loss')\n",
    "plt.legend(loc='upper right')\n",
    "plt.ylabel('Cross Entropy')\n",
    "plt.ylim([0,1.0])\n",
    "plt.title('Training Loss')\n",
    "plt.xlabel('epoch')\n",
    "plt.show()"
   ]
  },
  {
   "cell_type": "code",
   "execution_count": 36,
   "metadata": {},
   "outputs": [
    {
     "name": "stdout",
     "output_type": "stream",
     "text": [
      "133/133 [==============================] - 406s 3s/step - loss: 4.7597 - accuracy: 0.8750\n",
      "Test accuracy : 0.8750295042991638\n"
     ]
    }
   ],
   "source": [
    "#Valutiamo le prestazioni del modello sul test set.\n",
    "loss_test, accuracy_test = model.evaluate(test_set)\n",
    "print('Test accuracy :', accuracy_test)"
   ]
  },
  {
   "cell_type": "markdown",
   "metadata": {},
   "source": [
    "# FINE TUNING"
   ]
  },
  {
   "cell_type": "markdown",
   "metadata": {},
   "source": [
    "Un modo per incrementare le performance è eseguire fine-tuning, dove nel processo di training si 'aggiustano' i pesi degli ultimi layers così da specializzare la rete ancor di più al nostro dataset."
   ]
  },
  {
   "cell_type": "code",
   "execution_count": 37,
   "metadata": {},
   "outputs": [
    {
     "data": {
      "text/plain": [
       "175"
      ]
     },
     "execution_count": 37,
     "metadata": {},
     "output_type": "execute_result"
    }
   ],
   "source": [
    "#'Scongeliamo' il base_model in modo da non addestrare solo i layer più in basso.\n",
    "base_model.trainable = True\n",
    "\n",
    "num_layers = len(base_model.layers)\n",
    "num_layers"
   ]
  },
  {
   "cell_type": "code",
   "execution_count": 38,
   "metadata": {},
   "outputs": [],
   "source": [
    "#Scegliamo di addestrare il modello solo a partire dal centesimo layer in su.\n",
    "#quindi congeliamo tutti i layer precedenti.\n",
    "finetune = 100\n",
    "for layer in base_model.layers[:finetune]:\n",
    "    layer.trainable =  False"
   ]
  },
  {
   "cell_type": "code",
   "execution_count": 41,
   "metadata": {},
   "outputs": [
    {
     "name": "stdout",
     "output_type": "stream",
     "text": [
      "Model: \"sequential_2\"\n",
      "_________________________________________________________________\n",
      "Layer (type)                 Output Shape              Param #   \n",
      "=================================================================\n",
      "module_wrapper_2 (ModuleWrap (None, 7, 7, 2048)        23587712  \n",
      "_________________________________________________________________\n",
      "flatten_5 (Flatten)          (None, 100352)            0         \n",
      "_________________________________________________________________\n",
      "dense_5 (Dense)              (None, 4)                 401412    \n",
      "=================================================================\n",
      "Total params: 23,989,124\n",
      "Trainable params: 19,854,340\n",
      "Non-trainable params: 4,134,784\n",
      "_________________________________________________________________\n"
     ]
    }
   ],
   "source": [
    "#Ricompiliamo il modello.\n",
    "model.compile(loss=tf.keras.losses.SparseCategoricalCrossentropy(from_logits=True),\n",
    "              optimizer = 'adam',\n",
    "              metrics=['accuracy'])\n",
    "\n",
    "model.summary()"
   ]
  },
  {
   "cell_type": "code",
   "execution_count": 44,
   "metadata": {},
   "outputs": [
    {
     "name": "stdout",
     "output_type": "stream",
     "text": [
      "Epoch 5/10\n",
      "530/530 [==============================] - 3483s 7s/step - loss: 9.7237 - accuracy: 0.8138\n",
      "Epoch 6/10\n",
      "530/530 [==============================] - 3453s 7s/step - loss: 6.1128 - accuracy: 0.8459\n",
      "Epoch 7/10\n",
      "530/530 [==============================] - 3457s 7s/step - loss: 0.6845 - accuracy: 0.9212\n",
      "Epoch 8/10\n",
      "530/530 [==============================] - 3462s 7s/step - loss: 0.3350 - accuracy: 0.9522\n",
      "Epoch 9/10\n",
      "530/530 [==============================] - 3461s 7s/step - loss: 0.8228 - accuracy: 0.9392\n",
      "Epoch 10/10\n",
      "530/530 [==============================] - 3580s 7s/step - loss: 0.8161 - accuracy: 0.9511\n"
     ]
    }
   ],
   "source": [
    "#Continuiamo con l'addestramento.\n",
    "finetune_epochs = 5\n",
    "total_epochs =  5 + finetune_epochs\n",
    "\n",
    "history_fine = model.fit(train_set, epochs=total_epochs, initial_epoch=history.epoch[-1])\n",
    "acc += history_fine.history['accuracy']\n",
    "loss += history_fine.history['loss']"
   ]
  },
  {
   "cell_type": "code",
   "execution_count": 45,
   "metadata": {},
   "outputs": [
    {
     "data": {
      "image/png": "[encoded data removed]",
      "text/plain": [
       "<Figure size 576x576 with 2 Axes>"
      ]
     },
     "metadata": {
      "needs_background": "light"
     },
     "output_type": "display_data"
    }
   ],
   "source": [
    "#Analizziamo l'andamento dell'addestramento.\n",
    "plt.figure(figsize=(8, 8))\n",
    "plt.subplot(2, 1, 1)\n",
    "plt.plot(acc, label='Training Accuracy')\n",
    "plt.ylim([0.8, 1])\n",
    "plt.plot([initial_epochs-1,initial_epochs-1],\n",
    "          plt.ylim(), label='Start Fine Tuning')\n",
    "plt.legend(loc='lower right')\n",
    "plt.title('Training Accuracy')\n",
    "\n",
    "plt.subplot(2, 1, 2)\n",
    "plt.plot(loss, label='Training Loss')\n",
    "\n",
    "plt.ylim([0, 1.0])\n",
    "plt.plot([initial_epochs-1,initial_epochs-1],\n",
    "         plt.ylim(), label='Start Fine Tuning')\n",
    "plt.legend(loc='upper right')\n",
    "plt.title('Training Loss')\n",
    "plt.xlabel('epoch')\n",
    "plt.show()\n"
   ]
  },
  {
   "cell_type": "code",
   "execution_count": 46,
   "metadata": {},
   "outputs": [
    {
     "name": "stdout",
     "output_type": "stream",
     "text": [
      "133/133 [==============================] - 423s 3s/step - loss: 13.2546 - accuracy: 0.8098\n",
      "Test accuracy : 0.8098275661468506\n"
     ]
    }
   ],
   "source": [
    "#Valutazione del modello sul test set.\n",
    "loss_test, accuracy_test = model.evaluate(test_set)\n",
    "print('Test accuracy :', accuracy_test)"
   ]
  }
 ],
 "metadata": {
  "kernelspec": {
   "display_name": "Python 3",
   "language": "python",
   "name": "python3"
  },
  "language_info": {
   "codemirror_mode": {
    "name": "ipython",
    "version": 3
   },
   "file_extension": ".py",
   "mimetype": "text/x-python",
   "name": "python",
   "nbconvert_exporter": "python",
   "pygments_lexer": "ipython3",
   "version": "3.8.3"
  }
 },
 "nbformat": 4,
 "nbformat_minor": 4
}
